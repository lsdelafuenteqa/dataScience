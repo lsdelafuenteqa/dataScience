{
 "cells": [
  {
   "cell_type": "markdown",
   "metadata": {},
   "source": [
    "# Notebook sobre programacion con python"
   ]
  },
  {
   "cell_type": "markdown",
   "metadata": {},
   "source": [
    "Les comparto este notebook donde se repasan y agregan los temas que vimos en las ultimas 2 clases de ***Acamica***:  \n",
    "\n",
    "**funciones** y **clases**"
   ]
  },
  {
   "cell_type": "markdown",
   "metadata": {},
   "source": [
    "## Funciones"
   ]
  },
  {
   "cell_type": "markdown",
   "metadata": {},
   "source": [
    "- Recordamos que las funcion son bloque de codigo que se ejecuta o \"vive\" solo cuando es llamada por su nombre.\n",
    "- En python las funciones se declaran con **def** ***\\<nombre de la funcion\\>():***\n",
    "- El cuerpo de las funcion (al igual que los elementos de control de flujo **if**, **else**, **for**, **while**) se define con indentacion"
   ]
  },
  {
   "cell_type": "markdown",
   "metadata": {},
   "source": [
    "---\n",
    "#### Parametros:\n",
    "Veamos un poco de los parametros de una funcion.\n",
    "- usaremos **print('='*20)** para separar las salidas"
   ]
  },
  {
   "cell_type": "code",
   "execution_count": 1,
   "metadata": {},
   "outputs": [
    {
     "name": "stdout",
     "output_type": "stream",
     "text": [
      "argumento\n"
     ]
    }
   ],
   "source": [
    "# - DETALLE: Se le llama parametros a las variables que se definen entre los parentesis de las funcion y argumento a los valores que se le pasa a la funcion:\n",
    "def fun(parametro):\n",
    "    print(parametro)\n",
    "\n",
    "fun('argumento')"
   ]
  },
  {
   "cell_type": "code",
   "execution_count": 2,
   "metadata": {},
   "outputs": [
    {
     "name": "stdout",
     "output_type": "stream",
     "text": [
      "Hola mundo!\n"
     ]
    },
    {
     "ename": "TypeError",
     "evalue": "saludar() takes 0 positional arguments but 1 was given",
     "output_type": "error",
     "traceback": [
      "\u001b[0;31m---------------------------------------------------------------------------\u001b[0m",
      "\u001b[0;31mTypeError\u001b[0m                                 Traceback (most recent call last)",
      "\u001b[0;32m<ipython-input-2-a95d2d74c11e>\u001b[0m in \u001b[0;36m<module>\u001b[0;34m\u001b[0m\n\u001b[1;32m      6\u001b[0m \u001b[0msaludar\u001b[0m\u001b[0;34m(\u001b[0m\u001b[0;34m)\u001b[0m\u001b[0;34m\u001b[0m\u001b[0;34m\u001b[0m\u001b[0m\n\u001b[1;32m      7\u001b[0m \u001b[0;31m# Si se le pasa alagun parametro se obtiene un error, ya que no tiene definido ninguno (VER LA DESCRIPCION DE EL ERROR):\u001b[0m\u001b[0;34m\u001b[0m\u001b[0;34m\u001b[0m\u001b[0;34m\u001b[0m\u001b[0m\n\u001b[0;32m----> 8\u001b[0;31m \u001b[0msaludar\u001b[0m\u001b[0;34m(\u001b[0m\u001b[0;34m'Juan'\u001b[0m\u001b[0;34m)\u001b[0m\u001b[0;34m\u001b[0m\u001b[0;34m\u001b[0m\u001b[0m\n\u001b[0m",
      "\u001b[0;31mTypeError\u001b[0m: saludar() takes 0 positional arguments but 1 was given"
     ]
    }
   ],
   "source": [
    "def saludar():\n",
    "    # Funcion sin parametro\n",
    "    print(\"Hola mundo!\")\n",
    "\n",
    "# Esta funcion se ejecuta llamando solo a su nombre seguido de los parentesis:\n",
    "saludar()\n",
    "# Si se le pasa alagun parametro se obtiene un error, ya que no tiene definido ninguno (VER LA DESCRIPCION DE EL ERROR):\n",
    "saludar('Juan')"
   ]
  },
  {
   "cell_type": "code",
   "execution_count": 3,
   "metadata": {},
   "outputs": [
    {
     "name": "stdout",
     "output_type": "stream",
     "text": [
      "Hola Juan\n",
      "====================\n",
      "Hola Juan\n",
      "====================\n",
      "Buenos dias Juan!\n",
      "====================\n",
      "Buenos dias Juan!\n",
      "====================\n"
     ]
    }
   ],
   "source": [
    "def saludar2(persona, formal=False):\n",
    "    # Funcion con 2 parametros, el segundo con un valor por defecto. Es importante que los parametros sin valor por defecto esten primero que los que si poseen!!\n",
    "    if formal:\n",
    "        print(f'Buenos dias {persona}!')\n",
    "    else:\n",
    "        print(f'Hola {persona}')\n",
    "\n",
    "# Esta funcion se ejecuta llamando solo a su nombre seguido de los parentesis con un argumento que sera tomado por el parametro 'persona':\n",
    "saludar2('Juan')\n",
    "print('='*20)\n",
    "# se puede indicar el nombre del parametro si se quiere\n",
    "saludar2(persona='Juan')\n",
    "print('='*20)\n",
    "# Si no se indica el nombre del parametro los valores se asignan en orden\n",
    "saludar2('Juan', True)\n",
    "print('='*20)\n",
    "# Al indicarlos se puede cambiar el orden\n",
    "saludar2(formal=True, persona='Juan')\n",
    "print('='*20)"
   ]
  },
  {
   "cell_type": "code",
   "execution_count": 4,
   "metadata": {},
   "outputs": [
    {
     "name": "stdout",
     "output_type": "stream",
     "text": [
      "args: ('Juan', 'Pepe', 'Sofia')\n",
      "Hola Juan\n",
      "Hola Pepe\n",
      "Hola Sofia\n",
      "====================\n",
      "kwargs: {'Juan': True, 'Pepe': False, 'Sofia': True}\n",
      "Buenos dias Juan!\n",
      "Hola Pepe\n",
      "Buenos dias Sofia!\n"
     ]
    }
   ],
   "source": [
    "def saludar3(*args, **kwargs):\n",
    "    # funcion con parametros variables: (Estos nombre para los parametros son una convencion podrian llamarse *pepe y **lui)\n",
    "    # *args (arguments): indica que la funcion puede recibir un numero varible de argumentos SIN nombre, el * hace la magia de envolverlos en args como una tupla\n",
    "    # *kwargs (keyword arguments): Indica que la funcion puede recibir un numero varible de argumentos CON nombre, el ** hace la magia de envolverlos en args como un diccionario\n",
    "    \n",
    "    if len(args) > 0:           # Vemos si args recibio algun valor\n",
    "        print(f'args: {args}')  # mostramos que forma tiene args\n",
    "        for persona in args:    # Recorremos los valores\n",
    "            print(f'Hola {persona}')\n",
    "\n",
    "    if len(kwargs) > 0:             # Vemos si kwargs recibio algun valor\n",
    "        print(f'kwargs: {kwargs}')  # mostramos que forma tiene kwargs\n",
    "        for persona, formal in kwargs.items():  # Recorremos los valores\n",
    "            if formal:\n",
    "                print(f'Buenos dias {persona}!')\n",
    "            else:\n",
    "                print(f'Hola {persona}')\n",
    "\n",
    "# Esta funcion se puede llamar con la cantidad de parametros SIN nombre que desee y se englobaran en *args\n",
    "saludar3('Juan', 'Pepe', 'Sofia')\n",
    "\n",
    "print('='*20)\n",
    "\n",
    "# Esta funcion se puede llamar con la cantidad de parametros CON nombre que desee y se englobaran en *kwargs\n",
    "saludar3(Juan=True, Pepe=False, Sofia=True)"
   ]
  },
  {
   "cell_type": "code",
   "execution_count": 5,
   "metadata": {},
   "outputs": [
    {
     "name": "stdout",
     "output_type": "stream",
     "text": [
      "Hola\n"
     ]
    },
    {
     "ename": "TypeError",
     "evalue": "fun() takes 0 positional arguments but 1 was given",
     "output_type": "error",
     "traceback": [
      "\u001b[0;31m---------------------------------------------------------------------------\u001b[0m",
      "\u001b[0;31mTypeError\u001b[0m                                 Traceback (most recent call last)",
      "\u001b[0;32m<ipython-input-5-719bfd318b58>\u001b[0m in \u001b[0;36m<module>\u001b[0;34m\u001b[0m\n\u001b[1;32m      7\u001b[0m \u001b[0mfun\u001b[0m\u001b[0;34m(\u001b[0m\u001b[0mcadena\u001b[0m\u001b[0;34m=\u001b[0m\u001b[0;34m'Hola'\u001b[0m\u001b[0;34m)\u001b[0m\u001b[0;34m\u001b[0m\u001b[0;34m\u001b[0m\u001b[0m\n\u001b[1;32m      8\u001b[0m \u001b[0;31m# O se obtiene un error:\u001b[0m\u001b[0;34m\u001b[0m\u001b[0;34m\u001b[0m\u001b[0;34m\u001b[0m\u001b[0m\n\u001b[0;32m----> 9\u001b[0;31m \u001b[0mfun\u001b[0m\u001b[0;34m(\u001b[0m\u001b[0;34m'a'\u001b[0m\u001b[0;34m)\u001b[0m\u001b[0;34m\u001b[0m\u001b[0;34m\u001b[0m\u001b[0m\n\u001b[0m",
      "\u001b[0;31mTypeError\u001b[0m: fun() takes 0 positional arguments but 1 was given"
     ]
    }
   ],
   "source": [
    "# Nueva caracteristica:\n",
    "def fun(*, cadena):\n",
    "    # Funcion con * parametro, el * indica que los argumentos que siguen (en este caso \"primer_parametro\") se deberan llamar indicandolo\n",
    "    print(cadena)\n",
    "\n",
    "# Para llamar a la funcion es obligatorio indicar el parametro al que se le asignara el valor:\n",
    "fun(cadena='Hola')\n",
    "# O se obtiene un error:\n",
    "fun('a')"
   ]
  },
  {
   "cell_type": "markdown",
   "metadata": {},
   "source": [
    "---\n",
    "#### Variables globales\n",
    "Pequeño repaso de los alcances de estas variables"
   ]
  },
  {
   "cell_type": "code",
   "execution_count": 6,
   "metadata": {},
   "outputs": [
    {
     "name": "stdout",
     "output_type": "stream",
     "text": [
      "Hola Mundo!\n"
     ]
    }
   ],
   "source": [
    "varible_global = 'Hola Mundo!'\n",
    "\n",
    "def imprimir():\n",
    "    # funcion que no recibe argumentos pero toma el valor de una variable global\n",
    "    print(varible_global)\n",
    "\n",
    "imprimir()"
   ]
  },
  {
   "cell_type": "code",
   "execution_count": 7,
   "metadata": {},
   "outputs": [
    {
     "name": "stdout",
     "output_type": "stream",
     "text": [
      "Hola Mundo!\n",
      "====================\n",
      "Hola Argentina\n"
     ]
    }
   ],
   "source": [
    "def set_varible(new_value):\n",
    "    # funcion para cambiar el valor de la variable global. Para poder hacer esto es necesario escribir:\"global <nombre de la varible>\" antes de cambiar su valor.\n",
    "    # (DETALLE: sin la primera linea la funcion tiene permitido solo leer el valor en \"varivarible_global\" y no cambiarlo)\n",
    "    global varible_global\n",
    "    varible_global = new_value\n",
    "    \n",
    "print(varible_global)\n",
    "set_varible('Hola Argentina')\n",
    "print('='*20)\n",
    "print(varible_global)"
   ]
  },
  {
   "cell_type": "markdown",
   "metadata": {},
   "source": [
    "---\n",
    "#### Retorno de una funcion\n",
    "Vamos un poco sobre las formas de terminar una funcion"
   ]
  },
  {
   "cell_type": "code",
   "execution_count": 8,
   "metadata": {},
   "outputs": [
    {
     "name": "stdout",
     "output_type": "stream",
     "text": [
      "None\n"
     ]
    }
   ],
   "source": [
    "def numeros_pares(cantidad):\n",
    "    # funcion que toma un valor y muestra esa cantidad de numero pares\n",
    "    lista_de_pares = []\n",
    "    for numero in range(1, cantidad+1):\n",
    "        lista_de_pares.append(numero*2)\n",
    "    \n",
    "# Esta funcion no tiene una linea return, por lo tanto no nos devuelve nada al terminar la funcion (todo lo definido y calculado en la funcion se pierde) \n",
    "result = numeros_pares(10)\n",
    "print(result)"
   ]
  },
  {
   "cell_type": "code",
   "execution_count": 9,
   "metadata": {},
   "outputs": [
    {
     "name": "stdout",
     "output_type": "stream",
     "text": [
      "[2, 4, 6, 8, 10, 12, 14, 16, 18, 20]\n"
     ]
    }
   ],
   "source": [
    "def numeros_pares(cantidad):\n",
    "    # funcion que toma un valor y devuelve esa cantidad de numero pares\n",
    "    lista_de_pares = []\n",
    "    for numero in range(1, cantidad+1):\n",
    "        lista_de_pares.append(numero*2)\n",
    "    return lista_de_pares\n",
    "\n",
    "# como la funcion tiene un return nos indica que nos devolvera un valor entonces podemos agarrarlo asignandolo a una variable\n",
    "resultado = numeros_pares(10)\n",
    "print(resultado) # vemos los primeros 10 numeros pares"
   ]
  },
  {
   "cell_type": "markdown",
   "metadata": {},
   "source": [
    "- DETALLE: Python3 por defecto intenta trabajar con **Generadores** (como range()) los cuales se diferencian de las listas (o tuplas) en que no poseen todos sus elementos definidos, en cambio son una funcion que permite \"generar el siguente elemento\". Con esto se gana velocidad y se ahorra memoria.\n",
    "- Para crear nuestros generadores en las funciones se cambiar la palabra **return** por **yield**"
   ]
  },
  {
   "cell_type": "code",
   "execution_count": 10,
   "metadata": {},
   "outputs": [
    {
     "name": "stdout",
     "output_type": "stream",
     "text": [
      "<generator object numeros_pares at 0x7ff4e0454270>\n",
      "[2, 4, 6, 8, 10, 12, 14, 16, 18, 20]\n"
     ]
    }
   ],
   "source": [
    "def numeros_pares(cantidad):\n",
    "    for numero in range(1, cantidad+1):\n",
    "        yield numero*2\n",
    "\n",
    "# asignamos el generador creado a la variable result\n",
    "result = numeros_pares(10)\n",
    "print(result)\n",
    "print(list(result))  # para obtener los elementos se debe recorrer el generador, lo hacemos con la funcion list()"
   ]
  },
  {
   "cell_type": "markdown",
   "metadata": {},
   "source": [
    "---\n",
    "#### Lambda\n",
    "Las funciones lambda son muy utiles para definir en el mismo lugar donde se necesitan, permitiendo menos lineas de codigo y mayor velocidad.\n",
    "- Nota: No esta bueno el uso de asignar una funcion **lambda** a una varible, si necesitan hacer eso se debe usar **def** directamente"
   ]
  },
  {
   "cell_type": "code",
   "execution_count": 11,
   "metadata": {},
   "outputs": [
    {
     "name": "stdout",
     "output_type": "stream",
     "text": [
      "[1, 2, 3, 4, 5, 6, 7, 8, 9, 10, 11, 12, 13, 14, 15, 16, 17, 18, 19, 20, 21, 22, 23, 24, 25, 26, 27, 28, 29, 30, 31, 1]\n",
      "[2, 4, 6, 8, 10, 12, 14, 16, 18, 20, 22, 24, 26, 28, 30]\n"
     ]
    }
   ],
   "source": [
    "# Ejemplo de usos de lambda:\n",
    "\n",
    "import pandas as pd\n",
    "from random import randrange\n",
    "\n",
    "fechas_timestap = pd.date_range('03-01-2020', '04-01-2020', freq='1D').to_list()  # fechas entre 1 de marzo  y 1 de abril\n",
    "\n",
    "# =====================================================\n",
    "# Consigna: Queremos una lista los dias en tipo entero:\n",
    "# =====================================================\n",
    "\n",
    "# transformamos las fechas en tipo timestamp a string\n",
    "fechas_string = map(lambda x: x.strftime('%d-%m-%Y'), fechas_timestap)\n",
    "# Cortamos los dias y los cambiamos a entero\n",
    "dias = list(map(lambda x: int(x[:2]), fechas_string))\n",
    "print(dias)\n",
    "\n",
    "\n",
    "# =====================================================\n",
    "# Consigna: Queremos filtrar la lista de los dias a solo dias pares\n",
    "# =====================================================\n",
    "dias_filtrados = list(filter(lambda x: x%2 == 0, dias))\n",
    "print(dias_filtrados)"
   ]
  },
  {
   "cell_type": "markdown",
   "metadata": {},
   "source": [
    "---\n",
    "---\n",
    "---"
   ]
  },
  {
   "cell_type": "markdown",
   "metadata": {},
   "source": [
    "## Clases\n",
    "\n",
    "- Es un concepto de la (https://es.wikipedia.org/wiki/Programaci%C3%B3n_orientada_a_objetos)[Programcion Orientada a Objectos] (POO)\n",
    "- La POO es forma de programar donde las distintas funcionalidades que tiene un sistema (codigo) estan agrupadas segun su cohesion.\n",
    "- En python todo es un objecto, esto es: los tipos, las funciones, las librerias, etc son objectos. Sin embargo python permite la programacion funcional (lambdas) y scripts (archivos con tareas que se ejeutan secuencialmente), entre otros, por esto python se llama un lenguaje *multiparadigma*.\n",
    "- Recordamos que las clases son la plantilla de los objetos, esto es, define todos sus componentes.\n",
    "- Una clase esta formada por atributos (variables asociadas a la clase) y metodos (funciones asociadas a la clase).\n",
    "- Al llamar a una clase esta retorna una instancia de ella, esto es un objecto que contiene los elementos definidos en la plantilla de la clase"
   ]
  },
  {
   "cell_type": "code",
   "execution_count": 12,
   "metadata": {},
   "outputs": [
    {
     "name": "stdout",
     "output_type": "stream",
     "text": [
      "{'nombre': 'Martina', 'apellido': 'Ruthershford', 'dni': '0_000_001', 'nacionalidad': None}\n",
      "{'nombre': 'Martina', 'apellido': 'Ruthershford', 'dni': '0_000_001', 'nacionalidad': 'Argentina'}\n"
     ]
    }
   ],
   "source": [
    "# Vemos las partes de una clase\n",
    "\n",
    "# definicion\n",
    "class Persona:\n",
    "    \n",
    "    # Metodo que crea una instancia de la clase, este metodo no necesita retornar nada ya que los parametros se \"guardan\" dentro de self y se retorna este implicitamente\n",
    "    def __init__(self, nombre, apellido, dni, nacionalidad=None):\n",
    "        # el parametro self es la clase misma (la instancia)\n",
    "        self.nombre = nombre      # Aqui se asignan los valores recibidos a los atributos de la instancia de la clase\n",
    "        self.apellido = apellido\n",
    "        self.dni = dni\n",
    "        self.nacionalidad = nacionalidad\n",
    "\n",
    "    def set_nacionalidad(self, nacionalidad):\n",
    "        self.nacionalidad = nacionalidad\n",
    "\n",
    "persona = Persona('Martina', 'Ruthershford', '0_000_001')  # Nota en python3 se puede usar _ (guio bajo) para separ numero, asi son mas facil de leer\n",
    "print(persona.__dict__)   # el atributo __dict__ permite ver en formato diccionario los atributos y los valores de una instancia de una clase\n",
    "\n",
    "persona.set_nacionalidad('Argentina')\n",
    "print(persona.__dict__)"
   ]
  },
  {
   "cell_type": "markdown",
   "metadata": {},
   "source": [
    "#### Herencia\n",
    "Un concepto muy importante en POO es la *herencia*, esta permite \"heredar\" atributos y metodos de otras clases a una clase nueva, con el fin de simplificar el codigo"
   ]
  },
  {
   "cell_type": "code",
   "execution_count": 13,
   "metadata": {},
   "outputs": [
    {
     "name": "stdout",
     "output_type": "stream",
     "text": [
      "{'nombre': 'Martina', 'apellido': 'Ruthershford', 'dni': '0_000_001', 'nacionalidad': None, 'rol': 'Data Scientist', 'salario': 60000}\n",
      "None\n",
      "{'nombre': 'Martina', 'apellido': 'Ruthershford', 'dni': '0_000_001', 'nacionalidad': 'Uruguaya', 'rol': 'Data Scientist', 'salario': 60000}\n",
      "{'nombre': 'Martina', 'apellido': 'Ruthershford', 'dni': '0_000_001', 'nacionalidad': 'Uruguaya', 'rol': 'Data Scientist', 'salario': 78000.0}\n",
      "====================\n",
      "Data Scientist $78000.0\n"
     ]
    }
   ],
   "source": [
    "# Para heredar una clase de otra, se coloca la clase \"padre\" entre parentesis: (puede heredar de todas las clases que desee)\n",
    "class Empleado(Persona):\n",
    "\n",
    "    def __init__(self, nombre, apellido, dni,  rol, salario):  # se define que tome los valores para la clase \"padre\"\n",
    "        super().__init__(nombre, apellido, dni)  # esta instruccion ejecuta el metodo __init__ de la clase heredada\n",
    "        self.rol = rol\n",
    "        self.salario = salario\n",
    "\n",
    "    def aumentar_salario(self, porcentaje_de_aumento):\n",
    "        self.salario *= (1+porcentaje_de_aumento)\n",
    "\n",
    "    # Un metodo que no trabaja con sus propios atributos se llama metodo estatico y no necesita definir el self.\n",
    "    @staticmethod   # Se puede usar el decorador de staticmethod por eficiencia de codigo (no es necesario)\n",
    "    def imprimir(cadena):\n",
    "        print(cadena)\n",
    "\n",
    "    def obtener_rol_y_salario(self):\n",
    "        self.imprimir(f'{self.rol} ${self.salario}')\n",
    "        return self.rol, self.salario\n",
    "\n",
    "empleada = Empleado('Martina', 'Ruthershford', '0_000_001', 'Data Scientist', 60_000)\n",
    "print(empleada.__dict__)\n",
    "\n",
    "print(empleada.set_nacionalidad('Uruguaya'))  # La nueva clase tambien hereda los metodos y pueden ser ejecutados\n",
    "print(empleada.__dict__)\n",
    "\n",
    "empleada.aumentar_salario(porcentaje_de_aumento=0.30)\n",
    "print(empleada.__dict__)\n",
    "\n",
    "print('='*20)\n",
    "rol, salario = empleada.obtener_rol_y_salario()"
   ]
  },
  {
   "cell_type": "code",
   "execution_count": 29,
   "metadata": {},
   "outputs": [
    {
     "name": "stdout",
     "output_type": "stream",
     "text": [
      "Rojo\n",
      "verde\n",
      "====================\n",
      "Rojo\n",
      "verde\n"
     ]
    }
   ],
   "source": [
    "# Las clases permiten tener atributos de clase (o atributos staticos), lo que indican que esta siempre asociados a la clase\n",
    "# y no a la instancia obtenida de la clase. Esto indica que al tener 2 o mas instancias de la misma clase las dos instancias\n",
    "# siempre hacen refencia a la misma varible \n",
    "# ( como el ejemplo de usar copy() con los dataframes de pandas, en esto caso por mas que se cambie la variable en la instancia\n",
    "#  se puede acceder el valor definido en la clase usando un metodo de clase \"classmethod\")\n",
    "class Rectangulo:\n",
    "    color = 'Rojo'\n",
    "\n",
    "    def __init__(self, x, y):\n",
    "        self.x = x\n",
    "        self.y = y\n",
    "\n",
    "    @classmethod  # Definimos un metodo de clase para acceder a las variables de clase\n",
    "    def print_color(cls):  # En este metodo se accede a la variable de la clase (\"cls\" es como el \"self\" pero representa la clase)\n",
    "        print(cls.color)\n",
    "\n",
    "    def print_color2(self):  # En este metodo se accede a la variable de la instancia\n",
    "        print(self.color)\n",
    "\n",
    "r = Rectangulo(10,20)\n",
    "\n",
    "print(r.color)\n",
    "r.color = 'verde'  # cambiamos el color de la instancia\n",
    "print(r.color)\n",
    "\n",
    "print('='*20)\n",
    "r.print_color()\n",
    "r.print_color2()"
   ]
  },
  {
   "cell_type": "markdown",
   "metadata": {},
   "source": [
    "#### Metodos y Atributos buildin\n",
    "- Las clases traen sus atributos y metodos por defecto, vemos algunos"
   ]
  },
  {
   "cell_type": "code",
   "execution_count": 14,
   "metadata": {},
   "outputs": [
    {
     "name": "stdout",
     "output_type": "stream",
     "text": [
      "['__class__', '__delattr__', '__dict__', '__dir__', '__doc__', '__eq__', '__format__', '__ge__', '__getattribute__', '__gt__', '__hash__', '__init__', '__init_subclass__', '__le__', '__lt__', '__module__', '__ne__', '__new__', '__reduce__', '__reduce_ex__', '__repr__', '__setattr__', '__sizeof__', '__str__', '__subclasshook__', '__weakref__', 'apellido', 'dni', 'nacionalidad', 'nombre', 'set_nacionalidad']\n"
     ]
    }
   ],
   "source": [
    "#Una buena forma de ver todos los campos de una clase es con la funcion de python dir():\n",
    "print(dir(persona))"
   ]
  },
  {
   "cell_type": "code",
   "execution_count": 15,
   "metadata": {},
   "outputs": [
    {
     "data": {
      "text/plain": [
       "__main__.Persona"
      ]
     },
     "execution_count": 15,
     "metadata": {},
     "output_type": "execute_result"
    }
   ],
   "source": [
    "persona.__class__  # (Atributo) Muestra el nombre de la clase"
   ]
  },
  {
   "cell_type": "code",
   "execution_count": 16,
   "metadata": {},
   "outputs": [
    {
     "name": "stdout",
     "output_type": "stream",
     "text": [
      "<__main__.Persona object at 0x7ff4e0457190>\n",
      "Alberto Fernandez\n",
      "Alberto Fernandez\n"
     ]
    }
   ],
   "source": [
    "print(persona.__repr__()) # (Metodo) Permite definir la forma de imprimir una clase:\n",
    "\n",
    "# Podemos redefinir el metodo para mostrar lo que nos guste\n",
    "\n",
    "class Persona2(Persona):\n",
    "    def __repr__(self):\n",
    "        return f'{self.nombre} {self.apellido}'  # vamos a mostrar \"nombre apellido\" en vez de \" <__main__.Persona object at 0x7f26028631f0> \" (?)\n",
    "\n",
    "persona2 = Persona2('Alberto', 'Fernandez', 1_234_567)\n",
    "print(persona2.__repr__())\n",
    "print(persona2)  # cuando se intenta imprimir la clase internamente se llama al metodo __repr__() "
   ]
  },
  {
   "cell_type": "code",
   "execution_count": 17,
   "metadata": {},
   "outputs": [
    {
     "name": "stdout",
     "output_type": "stream",
     "text": [
      "NotImplemented\n",
      "====================\n",
      "False\n",
      "True\n"
     ]
    }
   ],
   "source": [
    "print(persona2.__le__(persona))  # (Metodo) Permite definir como sus clases se van a comparar, esto se llama sobrecarga de operadores\n",
    "\n",
    "class Persona3(Persona2):\n",
    "    def __eq__(self, other_person):\n",
    "        return self.nombre == other_person.nombre  # definimos que dos objetos persona son iguales si tienen el mismo nombre\n",
    "\n",
    "juan = Persona3('Juan', 'A.', 1)\n",
    "alberto = Persona3('Alberto', 'A.', 1)\n",
    "\n",
    "print('='*20)\n",
    "print(juan.__eq__(persona2))   # como persona2 tien como nombre alberto la comparacion da False\n",
    "print(alberto == persona2)     # al comparar dos objectos se llama al metodo __eq__()"
   ]
  },
  {
   "cell_type": "markdown",
   "metadata": {},
   "source": [
    "#### Notas\n",
    "Las clases tienen mucho contenido de interno, que se puede modificar a gusto si se quiere, pero no es el objetivo de nosotros. Esta bueno entender que son, y las partes que tiene, seguramente en su momento tengan que modificar algunas de las librerias que usamos (pandas, sklearn, etc) para tener algo mas personalizado o para ajustar cosas que necestiten, y todas las librerias estan escritas con clases."
   ]
  },
  {
   "cell_type": "markdown",
   "metadata": {},
   "source": [
    "# Plus: agregar atributos o funciones a los objetos\n",
    "Los objectos en python permiten cambiar los valores de los atributos en el codigo directamente, no es necesario crear metodos para obtener o cambiar los valores de estos"
   ]
  },
  {
   "cell_type": "code",
   "execution_count": 18,
   "metadata": {},
   "outputs": [
    {
     "ename": "NameError",
     "evalue": "name 'np' is not defined",
     "output_type": "error",
     "traceback": [
      "\u001b[0;31m---------------------------------------------------------------------------\u001b[0m",
      "\u001b[0;31mNameError\u001b[0m                                 Traceback (most recent call last)",
      "\u001b[0;32m<ipython-input-18-12dea2fd4eba>\u001b[0m in \u001b[0;36m<module>\u001b[0;34m\u001b[0m\n\u001b[0;32m----> 1\u001b[0;31m \u001b[0;32mdel\u001b[0m \u001b[0mnp\u001b[0m\u001b[0;34m\u001b[0m\u001b[0;34m\u001b[0m\u001b[0m\n\u001b[0m",
      "\u001b[0;31mNameError\u001b[0m: name 'np' is not defined"
     ]
    }
   ],
   "source": [
    "del np"
   ]
  },
  {
   "cell_type": "code",
   "execution_count": 19,
   "metadata": {},
   "outputs": [
    {
     "name": "stdout",
     "output_type": "stream",
     "text": [
      "nan\n",
      "1\n"
     ]
    }
   ],
   "source": [
    "import numpy as np\n",
    "\n",
    "print(np.nan)  # Atributo de la clase numpy\n",
    "np.nan = 1\n",
    "print(np.nan)  # Ahora el Atributo numpy que representaba un nulo es 1"
   ]
  },
  {
   "cell_type": "markdown",
   "metadata": {},
   "source": [
    "Los objetos tambien permiten agregar atributos y funciones en el codigo directamente"
   ]
  },
  {
   "cell_type": "code",
   "execution_count": 20,
   "metadata": {},
   "outputs": [
    {
     "name": "stdout",
     "output_type": "stream",
     "text": [
      "Gabriel\n"
     ]
    }
   ],
   "source": [
    "# agregamos a la libreria pandas nuestro nombre\n",
    "pd.alumno = 'Gabriel'\n",
    "print(pd.alumno)"
   ]
  },
  {
   "cell_type": "code",
   "execution_count": 21,
   "metadata": {},
   "outputs": [],
   "source": [
    "# Creamos una funcion que devuelve una serie con tanto pares como le indiquemos\n",
    "def pares(n):\n",
    "    return pd.Series([x*2 for x in range(1,n+1)])\n",
    "\n",
    "# Asignamos la serie a la libreria pandas \n",
    "pd.serie_de_pares = pares"
   ]
  },
  {
   "cell_type": "code",
   "execution_count": 22,
   "metadata": {},
   "outputs": [
    {
     "data": {
      "text/plain": [
       "0     2\n",
       "1     4\n",
       "2     6\n",
       "3     8\n",
       "4    10\n",
       "5    12\n",
       "6    14\n",
       "7    16\n",
       "8    18\n",
       "9    20\n",
       "dtype: int64"
      ]
     },
     "execution_count": 22,
     "metadata": {},
     "output_type": "execute_result"
    }
   ],
   "source": [
    "# ahora podemos llamar a nuestra funcion desde pandas\n",
    "pd.serie_de_pares(10)"
   ]
  },
  {
   "cell_type": "markdown",
   "metadata": {},
   "source": [
    "Hay muchas librerias extra de pandas con funciones que no estan en el codigo oficial que se agregan por los progradores de esta forma  \n",
    "\n",
    "Ejemplo: [Pandas Explode](https://github.com/orenovadia/pandas_explode)"
   ]
  }
 ],
 "metadata": {
  "kernelspec": {
   "display_name": "Python 3",
   "language": "python",
   "name": "python3"
  },
  "language_info": {
   "codemirror_mode": {
    "name": "ipython",
    "version": 3
   },
   "file_extension": ".py",
   "mimetype": "text/x-python",
   "name": "python",
   "nbconvert_exporter": "python",
   "pygments_lexer": "ipython3",
   "version": "3.8.1"
  }
 },
 "nbformat": 4,
 "nbformat_minor": 4
}
