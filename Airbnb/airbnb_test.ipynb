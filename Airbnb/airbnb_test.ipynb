{
 "cells": [
  {
   "cell_type": "markdown",
   "metadata": {},
   "source": [
    "# AIRBNB\n",
    "\n",
    "Basado en el data set \"\" del AIRBNB - Buenos Aires, http://insideairbnb.com/about.html\n",
    "\n",
    "**Problema**\n",
    "\n",
    "-\n",
    "\n",
    "**Sobre este notebook**\n",
    "\n",
    "La idea en este notbook, es solamente mostrar la parte del analisis, lo más completo posible, basado en los conocimientos adquiridos hasta el momento, siempre pensando en que esto sirva luego para poder predecir con Machine Learning y resolver el problema planteado.\n",
    "\n",
    "**Estructura**\n",
    "\n",
    "El analisis se estructura de la siguiente forma:\n",
    "* Importación de librerias.\n",
    "* Leyendo el data set.\n",
    "* Análisis exploratorio de datos (EDA).\n",
    " * 1. Analizando los tipos de variables (features).\n",
    " * 2. Analizando y limpiando el data set.\n",
    " * 3. Cantidades totales y estadisticas.\n",
    " * 4. Graficando y cruzando variables para entender mejor.\n",
    " * 5. Correlaciones.\n",
    "* Feature Engineering.\n",
    " * 1. Discretización y Binning de las edades.\n",
    " * 2. Creando el tamaño de las familias.\n",
    " * 3. Creando los \"titulos\" de cada persona\n",
    " * 4. Nuevas correlaciones"
   ]
  },
  {
   "cell_type": "markdown",
   "metadata": {},
   "source": [
    "## Importación de librerias"
   ]
  },
  {
   "cell_type": "code",
   "execution_count": 1,
   "metadata": {},
   "outputs": [],
   "source": [
    "import numpy as np\n",
    "import pandas as pd\n",
    "import matplotlib.pyplot as plt\n",
    "import seaborn as sns\n",
    "\n",
    "plt.rcParams['figure.figsize'] = (12,5)"
   ]
  },
  {
   "cell_type": "markdown",
   "metadata": {},
   "source": [
    "## Carga del data set"
   ]
  },
  {
   "cell_type": "code",
   "execution_count": 2,
   "metadata": {},
   "outputs": [],
   "source": [
    "# Cargamos el data set\n",
    "df = pd.read_csv('dataset/airbnb_bsas_2020.csv')"
   ]
  },
  {
   "cell_type": "code",
   "execution_count": 3,
   "metadata": {},
   "outputs": [
    {
     "data": {
      "text/html": [
       "<div>\n",
       "<style scoped>\n",
       "    .dataframe tbody tr th:only-of-type {\n",
       "        vertical-align: middle;\n",
       "    }\n",
       "\n",
       "    .dataframe tbody tr th {\n",
       "        vertical-align: top;\n",
       "    }\n",
       "\n",
       "    .dataframe thead th {\n",
       "        text-align: right;\n",
       "    }\n",
       "</style>\n",
       "<table border=\"1\" class=\"dataframe\">\n",
       "  <thead>\n",
       "    <tr style=\"text-align: right;\">\n",
       "      <th></th>\n",
       "      <th>id</th>\n",
       "      <th>name</th>\n",
       "      <th>host_id</th>\n",
       "      <th>host_name</th>\n",
       "      <th>neighbourhood_group</th>\n",
       "      <th>neighbourhood</th>\n",
       "      <th>latitude</th>\n",
       "      <th>longitude</th>\n",
       "      <th>room_type</th>\n",
       "      <th>price</th>\n",
       "      <th>minimum_nights</th>\n",
       "      <th>number_of_reviews</th>\n",
       "      <th>last_review</th>\n",
       "      <th>reviews_per_month</th>\n",
       "      <th>calculated_host_listings_count</th>\n",
       "      <th>availability_365</th>\n",
       "    </tr>\n",
       "  </thead>\n",
       "  <tbody>\n",
       "    <tr>\n",
       "      <th>0</th>\n",
       "      <td>7270</td>\n",
       "      <td>¡¡Great Loft in Palermo Hollywood!!</td>\n",
       "      <td>18822</td>\n",
       "      <td>Toni</td>\n",
       "      <td>NaN</td>\n",
       "      <td>Palermo</td>\n",
       "      <td>-34.582410</td>\n",
       "      <td>-58.433820</td>\n",
       "      <td>Entire home/apt</td>\n",
       "      <td>2041</td>\n",
       "      <td>20</td>\n",
       "      <td>14</td>\n",
       "      <td>2018-04-30</td>\n",
       "      <td>0.15</td>\n",
       "      <td>1</td>\n",
       "      <td>363</td>\n",
       "    </tr>\n",
       "    <tr>\n",
       "      <th>1</th>\n",
       "      <td>11508</td>\n",
       "      <td>Amazing Luxurious Apt-Palermo Soho</td>\n",
       "      <td>42762</td>\n",
       "      <td>Candela</td>\n",
       "      <td>NaN</td>\n",
       "      <td>Palermo</td>\n",
       "      <td>-34.582250</td>\n",
       "      <td>-58.424600</td>\n",
       "      <td>Entire home/apt</td>\n",
       "      <td>3601</td>\n",
       "      <td>2</td>\n",
       "      <td>26</td>\n",
       "      <td>2019-11-28</td>\n",
       "      <td>0.28</td>\n",
       "      <td>1</td>\n",
       "      <td>323</td>\n",
       "    </tr>\n",
       "    <tr>\n",
       "      <th>2</th>\n",
       "      <td>12463</td>\n",
       "      <td>Room in Recoleta - awesome location</td>\n",
       "      <td>48799</td>\n",
       "      <td>Matt</td>\n",
       "      <td>NaN</td>\n",
       "      <td>Recoleta</td>\n",
       "      <td>-34.597610</td>\n",
       "      <td>-58.394680</td>\n",
       "      <td>Private room</td>\n",
       "      <td>1441</td>\n",
       "      <td>1</td>\n",
       "      <td>20</td>\n",
       "      <td>2017-12-11</td>\n",
       "      <td>0.17</td>\n",
       "      <td>1</td>\n",
       "      <td>365</td>\n",
       "    </tr>\n",
       "    <tr>\n",
       "      <th>3</th>\n",
       "      <td>13095</td>\n",
       "      <td>Standard Room at Palermo Viejo B&amp;B</td>\n",
       "      <td>50994</td>\n",
       "      <td>Ariel</td>\n",
       "      <td>NaN</td>\n",
       "      <td>Palermo</td>\n",
       "      <td>-34.593820</td>\n",
       "      <td>-58.429940</td>\n",
       "      <td>Private room</td>\n",
       "      <td>2701</td>\n",
       "      <td>1</td>\n",
       "      <td>1</td>\n",
       "      <td>2018-12-18</td>\n",
       "      <td>0.07</td>\n",
       "      <td>7</td>\n",
       "      <td>365</td>\n",
       "    </tr>\n",
       "    <tr>\n",
       "      <th>4</th>\n",
       "      <td>13096</td>\n",
       "      <td>Standard Room in Palermo Viejo B&amp;B</td>\n",
       "      <td>50994</td>\n",
       "      <td>Ariel</td>\n",
       "      <td>NaN</td>\n",
       "      <td>Palermo</td>\n",
       "      <td>-34.593980</td>\n",
       "      <td>-58.428530</td>\n",
       "      <td>Private room</td>\n",
       "      <td>2701</td>\n",
       "      <td>1</td>\n",
       "      <td>0</td>\n",
       "      <td>NaN</td>\n",
       "      <td>NaN</td>\n",
       "      <td>7</td>\n",
       "      <td>365</td>\n",
       "    </tr>\n",
       "    <tr>\n",
       "      <th>...</th>\n",
       "      <td>...</td>\n",
       "      <td>...</td>\n",
       "      <td>...</td>\n",
       "      <td>...</td>\n",
       "      <td>...</td>\n",
       "      <td>...</td>\n",
       "      <td>...</td>\n",
       "      <td>...</td>\n",
       "      <td>...</td>\n",
       "      <td>...</td>\n",
       "      <td>...</td>\n",
       "      <td>...</td>\n",
       "      <td>...</td>\n",
       "      <td>...</td>\n",
       "      <td>...</td>\n",
       "      <td>...</td>\n",
       "    </tr>\n",
       "    <tr>\n",
       "      <th>24078</th>\n",
       "      <td>41788699</td>\n",
       "      <td>Nazca 1400</td>\n",
       "      <td>330175600</td>\n",
       "      <td>Matafuegos</td>\n",
       "      <td>NaN</td>\n",
       "      <td>Villa Santa Rita</td>\n",
       "      <td>-34.616580</td>\n",
       "      <td>-58.476230</td>\n",
       "      <td>Entire home/apt</td>\n",
       "      <td>1441</td>\n",
       "      <td>2</td>\n",
       "      <td>0</td>\n",
       "      <td>NaN</td>\n",
       "      <td>NaN</td>\n",
       "      <td>1</td>\n",
       "      <td>360</td>\n",
       "    </tr>\n",
       "    <tr>\n",
       "      <th>24079</th>\n",
       "      <td>41789537</td>\n",
       "      <td>Modern apartment with pool in the heart of Pal...</td>\n",
       "      <td>128733042</td>\n",
       "      <td>Luisina</td>\n",
       "      <td>NaN</td>\n",
       "      <td>Recoleta</td>\n",
       "      <td>-34.595556</td>\n",
       "      <td>-58.412277</td>\n",
       "      <td>Entire home/apt</td>\n",
       "      <td>3001</td>\n",
       "      <td>4</td>\n",
       "      <td>0</td>\n",
       "      <td>NaN</td>\n",
       "      <td>NaN</td>\n",
       "      <td>2</td>\n",
       "      <td>48</td>\n",
       "    </tr>\n",
       "    <tr>\n",
       "      <th>24080</th>\n",
       "      <td>41789708</td>\n",
       "      <td>Greenzone - Habitación privada (hasta 3 personas)</td>\n",
       "      <td>22286043</td>\n",
       "      <td>Martina</td>\n",
       "      <td>NaN</td>\n",
       "      <td>Caballito</td>\n",
       "      <td>-34.607010</td>\n",
       "      <td>-58.460170</td>\n",
       "      <td>Private room</td>\n",
       "      <td>600</td>\n",
       "      <td>4</td>\n",
       "      <td>0</td>\n",
       "      <td>NaN</td>\n",
       "      <td>NaN</td>\n",
       "      <td>1</td>\n",
       "      <td>148</td>\n",
       "    </tr>\n",
       "    <tr>\n",
       "      <th>24081</th>\n",
       "      <td>41789986</td>\n",
       "      <td>Full 2 guests flat at famous P SOHO PLAZA SERR...</td>\n",
       "      <td>1482817</td>\n",
       "      <td>Lorena</td>\n",
       "      <td>NaN</td>\n",
       "      <td>Palermo</td>\n",
       "      <td>-34.587789</td>\n",
       "      <td>-58.430529</td>\n",
       "      <td>Entire home/apt</td>\n",
       "      <td>1921</td>\n",
       "      <td>3</td>\n",
       "      <td>0</td>\n",
       "      <td>NaN</td>\n",
       "      <td>NaN</td>\n",
       "      <td>45</td>\n",
       "      <td>83</td>\n",
       "    </tr>\n",
       "    <tr>\n",
       "      <th>24082</th>\n",
       "      <td>41791875</td>\n",
       "      <td>IMPERDIBLE!</td>\n",
       "      <td>11275785</td>\n",
       "      <td>Mariela</td>\n",
       "      <td>NaN</td>\n",
       "      <td>Nuñez</td>\n",
       "      <td>-34.543584</td>\n",
       "      <td>-58.462718</td>\n",
       "      <td>Entire home/apt</td>\n",
       "      <td>3601</td>\n",
       "      <td>5</td>\n",
       "      <td>0</td>\n",
       "      <td>NaN</td>\n",
       "      <td>NaN</td>\n",
       "      <td>2</td>\n",
       "      <td>357</td>\n",
       "    </tr>\n",
       "  </tbody>\n",
       "</table>\n",
       "<p>24083 rows × 16 columns</p>\n",
       "</div>"
      ],
      "text/plain": [
       "             id                                               name    host_id  \\\n",
       "0          7270                ¡¡Great Loft in Palermo Hollywood!!      18822   \n",
       "1         11508                 Amazing Luxurious Apt-Palermo Soho      42762   \n",
       "2         12463                Room in Recoleta - awesome location      48799   \n",
       "3         13095                 Standard Room at Palermo Viejo B&B      50994   \n",
       "4         13096                 Standard Room in Palermo Viejo B&B      50994   \n",
       "...         ...                                                ...        ...   \n",
       "24078  41788699                                         Nazca 1400  330175600   \n",
       "24079  41789537  Modern apartment with pool in the heart of Pal...  128733042   \n",
       "24080  41789708  Greenzone - Habitación privada (hasta 3 personas)   22286043   \n",
       "24081  41789986  Full 2 guests flat at famous P SOHO PLAZA SERR...    1482817   \n",
       "24082  41791875                                        IMPERDIBLE!   11275785   \n",
       "\n",
       "        host_name  neighbourhood_group     neighbourhood   latitude  \\\n",
       "0            Toni                  NaN           Palermo -34.582410   \n",
       "1         Candela                  NaN           Palermo -34.582250   \n",
       "2            Matt                  NaN          Recoleta -34.597610   \n",
       "3           Ariel                  NaN           Palermo -34.593820   \n",
       "4           Ariel                  NaN           Palermo -34.593980   \n",
       "...           ...                  ...               ...        ...   \n",
       "24078  Matafuegos                  NaN  Villa Santa Rita -34.616580   \n",
       "24079     Luisina                  NaN          Recoleta -34.595556   \n",
       "24080     Martina                  NaN         Caballito -34.607010   \n",
       "24081      Lorena                  NaN           Palermo -34.587789   \n",
       "24082     Mariela                  NaN             Nuñez -34.543584   \n",
       "\n",
       "       longitude        room_type  price  minimum_nights  number_of_reviews  \\\n",
       "0     -58.433820  Entire home/apt   2041              20                 14   \n",
       "1     -58.424600  Entire home/apt   3601               2                 26   \n",
       "2     -58.394680     Private room   1441               1                 20   \n",
       "3     -58.429940     Private room   2701               1                  1   \n",
       "4     -58.428530     Private room   2701               1                  0   \n",
       "...          ...              ...    ...             ...                ...   \n",
       "24078 -58.476230  Entire home/apt   1441               2                  0   \n",
       "24079 -58.412277  Entire home/apt   3001               4                  0   \n",
       "24080 -58.460170     Private room    600               4                  0   \n",
       "24081 -58.430529  Entire home/apt   1921               3                  0   \n",
       "24082 -58.462718  Entire home/apt   3601               5                  0   \n",
       "\n",
       "      last_review  reviews_per_month  calculated_host_listings_count  \\\n",
       "0      2018-04-30               0.15                               1   \n",
       "1      2019-11-28               0.28                               1   \n",
       "2      2017-12-11               0.17                               1   \n",
       "3      2018-12-18               0.07                               7   \n",
       "4             NaN                NaN                               7   \n",
       "...           ...                ...                             ...   \n",
       "24078         NaN                NaN                               1   \n",
       "24079         NaN                NaN                               2   \n",
       "24080         NaN                NaN                               1   \n",
       "24081         NaN                NaN                              45   \n",
       "24082         NaN                NaN                               2   \n",
       "\n",
       "       availability_365  \n",
       "0                   363  \n",
       "1                   323  \n",
       "2                   365  \n",
       "3                   365  \n",
       "4                   365  \n",
       "...                 ...  \n",
       "24078               360  \n",
       "24079                48  \n",
       "24080               148  \n",
       "24081                83  \n",
       "24082               357  \n",
       "\n",
       "[24083 rows x 16 columns]"
      ]
     },
     "execution_count": 3,
     "metadata": {},
     "output_type": "execute_result"
    }
   ],
   "source": [
    "df"
   ]
  },
  {
   "cell_type": "code",
   "execution_count": 4,
   "metadata": {},
   "outputs": [
    {
     "data": {
      "text/plain": [
       "Index(['id', 'name', 'host_id', 'host_name', 'neighbourhood_group',\n",
       "       'neighbourhood', 'latitude', 'longitude', 'room_type', 'price',\n",
       "       'minimum_nights', 'number_of_reviews', 'last_review',\n",
       "       'reviews_per_month', 'calculated_host_listings_count',\n",
       "       'availability_365'],\n",
       "      dtype='object')"
      ]
     },
     "execution_count": 4,
     "metadata": {},
     "output_type": "execute_result"
    }
   ],
   "source": [
    "df.columns"
   ]
  },
  {
   "cell_type": "markdown",
   "metadata": {},
   "source": [
    "## Análisis exploratorio de datos (EDA)"
   ]
  },
  {
   "cell_type": "markdown",
   "metadata": {},
   "source": [
    "### 1. Analizando los tipos de variables (features)"
   ]
  },
  {
   "cell_type": "markdown",
   "metadata": {},
   "source": [
    "### Tipos de variables\n",
    "Categoricas\n",
    "* name\n",
    "* host_name\n",
    "* neighbourhood\n",
    "* room_type\n",
    "* last_review\n",
    "\n",
    "Númericas discretas\n",
    "* host_id\n",
    "* price\n",
    "* minimum_nights\n",
    "* number_of_reviews\n",
    "* calculated_host_listings_count\n",
    "* availability_365\n",
    "\n",
    "Númericas continuas\n",
    "* latitude\n",
    "* longitude\n",
    "* reviews_per_month"
   ]
  },
  {
   "cell_type": "code",
   "execution_count": 5,
   "metadata": {},
   "outputs": [
    {
     "name": "stdout",
     "output_type": "stream",
     "text": [
      "<class 'pandas.core.frame.DataFrame'>\n",
      "RangeIndex: 24083 entries, 0 to 24082\n",
      "Data columns (total 16 columns):\n",
      " #   Column                          Non-Null Count  Dtype  \n",
      "---  ------                          --------------  -----  \n",
      " 0   id                              24083 non-null  int64  \n",
      " 1   name                            24072 non-null  object \n",
      " 2   host_id                         24083 non-null  int64  \n",
      " 3   host_name                       24081 non-null  object \n",
      " 4   neighbourhood_group             0 non-null      float64\n",
      " 5   neighbourhood                   24083 non-null  object \n",
      " 6   latitude                        24083 non-null  float64\n",
      " 7   longitude                       24083 non-null  float64\n",
      " 8   room_type                       24083 non-null  object \n",
      " 9   price                           24083 non-null  int64  \n",
      " 10  minimum_nights                  24083 non-null  int64  \n",
      " 11  number_of_reviews               24083 non-null  int64  \n",
      " 12  last_review                     17301 non-null  object \n",
      " 13  reviews_per_month               17301 non-null  float64\n",
      " 14  calculated_host_listings_count  24083 non-null  int64  \n",
      " 15  availability_365                24083 non-null  int64  \n",
      "dtypes: float64(4), int64(7), object(5)\n",
      "memory usage: 2.9+ MB\n"
     ]
    }
   ],
   "source": [
    "df.info()"
   ]
  },
  {
   "cell_type": "markdown",
   "metadata": {},
   "source": [
    "### 2. Analizando y limpiando el data set."
   ]
  },
  {
   "cell_type": "markdown",
   "metadata": {},
   "source": [
    "Veamos la cantidad de valores nulos por columna que tiene el data set."
   ]
  },
  {
   "cell_type": "code",
   "execution_count": 6,
   "metadata": {},
   "outputs": [
    {
     "data": {
      "text/plain": [
       "id                                    0\n",
       "name                                 11\n",
       "host_id                               0\n",
       "host_name                             2\n",
       "neighbourhood_group               24083\n",
       "neighbourhood                         0\n",
       "latitude                              0\n",
       "longitude                             0\n",
       "room_type                             0\n",
       "price                                 0\n",
       "minimum_nights                        0\n",
       "number_of_reviews                     0\n",
       "last_review                        6782\n",
       "reviews_per_month                  6782\n",
       "calculated_host_listings_count        0\n",
       "availability_365                      0\n",
       "dtype: int64"
      ]
     },
     "execution_count": 6,
     "metadata": {},
     "output_type": "execute_result"
    }
   ],
   "source": [
    "df.isna().sum()"
   ]
  },
  {
   "cell_type": "markdown",
   "metadata": {},
   "source": [
    "Tenemos cinco columnas que tienen valores vacíos.\n",
    "\n",
    "Hay que recordar que en total se tienen 24083 instancias,por lo que se procedera a eliminar la columna neighbourhood_group ya que la totalidad de sus valores son nulos. Por otro lado el resto de las columnas no tiene una calidad de valores nulos significante, salvo en last_reviews y reviews_per_month.\n",
    "\n",
    "Analizemos cada una de las columnas que contienen datos nulos:\n",
    "* name: Esta feature demuestra una especie de comentario sobre el host, por lo que para este análisis no nos aporta demasiado, se decide dejarla sin imputar los valores faltantes.\n",
    "\n",
    "* host_name: Este es el nombre del host que brinda el hospedaje, podríamos sacar su valor comparando el host_id, latitud y longitud, para ver si estos valores faltantes coinciden con algun otra instancia y así saber el nombre del host faltante.\n",
    "\n",
    "* last_review y reviews_per_month: Tienen una cantidad significativa de valores faltantes pero no se imputaran los valores faltantes."
   ]
  },
  {
   "cell_type": "markdown",
   "metadata": {},
   "source": [
    "#### Eliminamos la columna neighbourhood_group:"
   ]
  },
  {
   "cell_type": "code",
   "execution_count": 7,
   "metadata": {},
   "outputs": [],
   "source": [
    "df.drop(columns=['id', 'neighbourhood_group'], inplace=True)"
   ]
  },
  {
   "cell_type": "markdown",
   "metadata": {},
   "source": [
    "#### Imputamos los valores faltantes de host_name\n",
    "\n",
    "Primero buscamos las instancias que tienen host_name vacíos y luego con el host_id, buscaremos si existe y así reemplazar el host_name."
   ]
  },
  {
   "cell_type": "code",
   "execution_count": 8,
   "metadata": {},
   "outputs": [
    {
     "data": {
      "text/html": [
       "<div>\n",
       "<style scoped>\n",
       "    .dataframe tbody tr th:only-of-type {\n",
       "        vertical-align: middle;\n",
       "    }\n",
       "\n",
       "    .dataframe tbody tr th {\n",
       "        vertical-align: top;\n",
       "    }\n",
       "\n",
       "    .dataframe thead th {\n",
       "        text-align: right;\n",
       "    }\n",
       "</style>\n",
       "<table border=\"1\" class=\"dataframe\">\n",
       "  <thead>\n",
       "    <tr style=\"text-align: right;\">\n",
       "      <th></th>\n",
       "      <th>name</th>\n",
       "      <th>host_id</th>\n",
       "      <th>host_name</th>\n",
       "      <th>neighbourhood</th>\n",
       "      <th>latitude</th>\n",
       "      <th>longitude</th>\n",
       "      <th>room_type</th>\n",
       "      <th>price</th>\n",
       "      <th>minimum_nights</th>\n",
       "      <th>number_of_reviews</th>\n",
       "      <th>last_review</th>\n",
       "      <th>reviews_per_month</th>\n",
       "      <th>calculated_host_listings_count</th>\n",
       "      <th>availability_365</th>\n",
       "    </tr>\n",
       "  </thead>\n",
       "  <tbody>\n",
       "    <tr>\n",
       "      <th>7628</th>\n",
       "      <td>Super Cozy apartment in Belgrano</td>\n",
       "      <td>26484907</td>\n",
       "      <td>NaN</td>\n",
       "      <td>Belgrano</td>\n",
       "      <td>-34.56736</td>\n",
       "      <td>-58.45683</td>\n",
       "      <td>Entire home/apt</td>\n",
       "      <td>900</td>\n",
       "      <td>1</td>\n",
       "      <td>0</td>\n",
       "      <td>NaN</td>\n",
       "      <td>NaN</td>\n",
       "      <td>1</td>\n",
       "      <td>0</td>\n",
       "    </tr>\n",
       "    <tr>\n",
       "      <th>8397</th>\n",
       "      <td>Magnífico departamento a metros de Alto Palermo</td>\n",
       "      <td>170460402</td>\n",
       "      <td>NaN</td>\n",
       "      <td>Palermo</td>\n",
       "      <td>-34.58929</td>\n",
       "      <td>-58.41311</td>\n",
       "      <td>Entire home/apt</td>\n",
       "      <td>4802</td>\n",
       "      <td>3</td>\n",
       "      <td>46</td>\n",
       "      <td>2020-01-04</td>\n",
       "      <td>2.04</td>\n",
       "      <td>1</td>\n",
       "      <td>281</td>\n",
       "    </tr>\n",
       "  </tbody>\n",
       "</table>\n",
       "</div>"
      ],
      "text/plain": [
       "                                                 name    host_id host_name  \\\n",
       "7628                 Super Cozy apartment in Belgrano   26484907       NaN   \n",
       "8397  Magnífico departamento a metros de Alto Palermo  170460402       NaN   \n",
       "\n",
       "     neighbourhood  latitude  longitude        room_type  price  \\\n",
       "7628      Belgrano -34.56736  -58.45683  Entire home/apt    900   \n",
       "8397       Palermo -34.58929  -58.41311  Entire home/apt   4802   \n",
       "\n",
       "      minimum_nights  number_of_reviews last_review  reviews_per_month  \\\n",
       "7628               1                  0         NaN                NaN   \n",
       "8397               3                 46  2020-01-04               2.04   \n",
       "\n",
       "      calculated_host_listings_count  availability_365  \n",
       "7628                               1                 0  \n",
       "8397                               1               281  "
      ]
     },
     "execution_count": 8,
     "metadata": {},
     "output_type": "execute_result"
    }
   ],
   "source": [
    "df[df['host_name'].isna()]"
   ]
  },
  {
   "cell_type": "code",
   "execution_count": 9,
   "metadata": {},
   "outputs": [
    {
     "data": {
      "text/html": [
       "<div>\n",
       "<style scoped>\n",
       "    .dataframe tbody tr th:only-of-type {\n",
       "        vertical-align: middle;\n",
       "    }\n",
       "\n",
       "    .dataframe tbody tr th {\n",
       "        vertical-align: top;\n",
       "    }\n",
       "\n",
       "    .dataframe thead th {\n",
       "        text-align: right;\n",
       "    }\n",
       "</style>\n",
       "<table border=\"1\" class=\"dataframe\">\n",
       "  <thead>\n",
       "    <tr style=\"text-align: right;\">\n",
       "      <th></th>\n",
       "      <th>name</th>\n",
       "      <th>host_id</th>\n",
       "      <th>host_name</th>\n",
       "      <th>neighbourhood</th>\n",
       "      <th>latitude</th>\n",
       "      <th>longitude</th>\n",
       "      <th>room_type</th>\n",
       "      <th>price</th>\n",
       "      <th>minimum_nights</th>\n",
       "      <th>number_of_reviews</th>\n",
       "      <th>last_review</th>\n",
       "      <th>reviews_per_month</th>\n",
       "      <th>calculated_host_listings_count</th>\n",
       "      <th>availability_365</th>\n",
       "    </tr>\n",
       "  </thead>\n",
       "  <tbody>\n",
       "    <tr>\n",
       "      <th>8397</th>\n",
       "      <td>Magnífico departamento a metros de Alto Palermo</td>\n",
       "      <td>170460402</td>\n",
       "      <td>NaN</td>\n",
       "      <td>Palermo</td>\n",
       "      <td>-34.58929</td>\n",
       "      <td>-58.41311</td>\n",
       "      <td>Entire home/apt</td>\n",
       "      <td>4802</td>\n",
       "      <td>3</td>\n",
       "      <td>46</td>\n",
       "      <td>2020-01-04</td>\n",
       "      <td>2.04</td>\n",
       "      <td>1</td>\n",
       "      <td>281</td>\n",
       "    </tr>\n",
       "  </tbody>\n",
       "</table>\n",
       "</div>"
      ],
      "text/plain": [
       "                                                 name    host_id host_name  \\\n",
       "8397  Magnífico departamento a metros de Alto Palermo  170460402       NaN   \n",
       "\n",
       "     neighbourhood  latitude  longitude        room_type  price  \\\n",
       "8397       Palermo -34.58929  -58.41311  Entire home/apt   4802   \n",
       "\n",
       "      minimum_nights  number_of_reviews last_review  reviews_per_month  \\\n",
       "8397               3                 46  2020-01-04               2.04   \n",
       "\n",
       "      calculated_host_listings_count  availability_365  \n",
       "8397                               1               281  "
      ]
     },
     "execution_count": 9,
     "metadata": {},
     "output_type": "execute_result"
    }
   ],
   "source": [
    "df[df['host_id'] == 26484907]\n",
    "df[df['host_id'] == 170460402]"
   ]
  },
  {
   "cell_type": "markdown",
   "metadata": {},
   "source": [
    "Ninguno de los dos host, tiene más registros en el data set, por lo que no podemos saber el nombre del host, al ser solo dos valores, los dejaremos así ya que no afectará ningún valor estadistico."
   ]
  },
  {
   "cell_type": "markdown",
   "metadata": {},
   "source": [
    "#### Analizamos si existen precios = 0:"
   ]
  },
  {
   "cell_type": "code",
   "execution_count": 10,
   "metadata": {},
   "outputs": [
    {
     "data": {
      "text/html": [
       "<div>\n",
       "<style scoped>\n",
       "    .dataframe tbody tr th:only-of-type {\n",
       "        vertical-align: middle;\n",
       "    }\n",
       "\n",
       "    .dataframe tbody tr th {\n",
       "        vertical-align: top;\n",
       "    }\n",
       "\n",
       "    .dataframe thead th {\n",
       "        text-align: right;\n",
       "    }\n",
       "</style>\n",
       "<table border=\"1\" class=\"dataframe\">\n",
       "  <thead>\n",
       "    <tr style=\"text-align: right;\">\n",
       "      <th></th>\n",
       "      <th>name</th>\n",
       "      <th>host_id</th>\n",
       "      <th>host_name</th>\n",
       "      <th>neighbourhood</th>\n",
       "      <th>latitude</th>\n",
       "      <th>longitude</th>\n",
       "      <th>room_type</th>\n",
       "      <th>price</th>\n",
       "      <th>minimum_nights</th>\n",
       "      <th>number_of_reviews</th>\n",
       "      <th>last_review</th>\n",
       "      <th>reviews_per_month</th>\n",
       "      <th>calculated_host_listings_count</th>\n",
       "      <th>availability_365</th>\n",
       "    </tr>\n",
       "  </thead>\n",
       "  <tbody>\n",
       "    <tr>\n",
       "      <th>10321</th>\n",
       "      <td>Habitación persona sola o pareja</td>\n",
       "      <td>157117755</td>\n",
       "      <td>Geraldin</td>\n",
       "      <td>Velez Sarsfield</td>\n",
       "      <td>-34.6344</td>\n",
       "      <td>-58.48316</td>\n",
       "      <td>Private room</td>\n",
       "      <td>0</td>\n",
       "      <td>30</td>\n",
       "      <td>0</td>\n",
       "      <td>NaN</td>\n",
       "      <td>NaN</td>\n",
       "      <td>1</td>\n",
       "      <td>364</td>\n",
       "    </tr>\n",
       "  </tbody>\n",
       "</table>\n",
       "</div>"
      ],
      "text/plain": [
       "                                   name    host_id host_name    neighbourhood  \\\n",
       "10321  Habitación persona sola o pareja  157117755  Geraldin  Velez Sarsfield   \n",
       "\n",
       "       latitude  longitude     room_type  price  minimum_nights  \\\n",
       "10321  -34.6344  -58.48316  Private room      0              30   \n",
       "\n",
       "       number_of_reviews last_review  reviews_per_month  \\\n",
       "10321                  0         NaN                NaN   \n",
       "\n",
       "       calculated_host_listings_count  availability_365  \n",
       "10321                               1               364  "
      ]
     },
     "execution_count": 10,
     "metadata": {},
     "output_type": "execute_result"
    }
   ],
   "source": [
    "df[df[\"price\"]==0]"
   ]
  },
  {
   "cell_type": "markdown",
   "metadata": {},
   "source": [
    "Existe una instancia con precio igual a 0, por lo que este valor, hace que existe una dispersión muy grande. Procederemos a imputarlo por el precio promedio acorde a una Private room en el barrio de Velez Sarfield"
   ]
  },
  {
   "cell_type": "code",
   "execution_count": 11,
   "metadata": {},
   "outputs": [
    {
     "data": {
      "text/plain": [
       "1080.25"
      ]
     },
     "execution_count": 11,
     "metadata": {},
     "output_type": "execute_result"
    }
   ],
   "source": [
    "# Precio promedio de una private room en el barrio Velez Sarfield\n",
    "df[(df['room_type'] == 'Private room') & (df['neighbourhood'] == 'Velez Sarsfield') & (df['price'] != 0)].price.mean()"
   ]
  },
  {
   "cell_type": "code",
   "execution_count": 12,
   "metadata": {},
   "outputs": [
    {
     "data": {
      "text/html": [
       "<div>\n",
       "<style scoped>\n",
       "    .dataframe tbody tr th:only-of-type {\n",
       "        vertical-align: middle;\n",
       "    }\n",
       "\n",
       "    .dataframe tbody tr th {\n",
       "        vertical-align: top;\n",
       "    }\n",
       "\n",
       "    .dataframe thead th {\n",
       "        text-align: right;\n",
       "    }\n",
       "</style>\n",
       "<table border=\"1\" class=\"dataframe\">\n",
       "  <thead>\n",
       "    <tr style=\"text-align: right;\">\n",
       "      <th></th>\n",
       "      <th>name</th>\n",
       "      <th>host_id</th>\n",
       "      <th>host_name</th>\n",
       "      <th>neighbourhood</th>\n",
       "      <th>latitude</th>\n",
       "      <th>longitude</th>\n",
       "      <th>room_type</th>\n",
       "      <th>price</th>\n",
       "      <th>minimum_nights</th>\n",
       "      <th>number_of_reviews</th>\n",
       "      <th>last_review</th>\n",
       "      <th>reviews_per_month</th>\n",
       "      <th>calculated_host_listings_count</th>\n",
       "      <th>availability_365</th>\n",
       "    </tr>\n",
       "  </thead>\n",
       "  <tbody>\n",
       "  </tbody>\n",
       "</table>\n",
       "</div>"
      ],
      "text/plain": [
       "Empty DataFrame\n",
       "Columns: [name, host_id, host_name, neighbourhood, latitude, longitude, room_type, price, minimum_nights, number_of_reviews, last_review, reviews_per_month, calculated_host_listings_count, availability_365]\n",
       "Index: []"
      ]
     },
     "execution_count": 12,
     "metadata": {},
     "output_type": "execute_result"
    }
   ],
   "source": [
    "df.loc[(df[\"price\"]==0), \"price\"] = 1080\n",
    "df[df[\"price\"]==0]"
   ]
  },
  {
   "cell_type": "markdown",
   "metadata": {},
   "source": [
    "### 3. Cantidades totales y estadisticas."
   ]
  },
  {
   "cell_type": "markdown",
   "metadata": {},
   "source": [
    "#### Barrios\n",
    "\n",
    "Comencemos con ver, que barrios hay en el data set y que cantidad de registros existen con cada uno."
   ]
  },
  {
   "cell_type": "code",
   "execution_count": 13,
   "metadata": {},
   "outputs": [
    {
     "data": {
      "text/plain": [
       "array(['Palermo', 'Recoleta', 'Monserrat', 'Nuñez', 'Balvanera',\n",
       "       'Belgrano', 'San Nicolas', 'San Telmo', 'Constitucion',\n",
       "       'Puerto Madero', 'Chacarita', 'Retiro', 'Villa Crespo',\n",
       "       'San Cristobal', 'Almagro', 'Colegiales', 'Boedo', 'Caballito',\n",
       "       'Villa Ortuzar', 'Nueva Pompeya', 'Parque Chacabuco',\n",
       "       'Villa Urquiza', 'Barracas', 'Coghlan', 'Parque Patricios', 'Boca',\n",
       "       'Saavedra', 'Villa Devoto', 'Flores', 'Monte Castro',\n",
       "       'Velez Sarsfield', 'Villa Gral. Mitre', 'Parque Chas', 'Floresta',\n",
       "       'Paternal', 'Villa Del Parque', 'Versalles', 'Mataderos',\n",
       "       'Villa Pueyrredon', 'Agronomia', 'Parque Avellaneda',\n",
       "       'Villa Santa Rita', 'Villa Luro', 'Liniers', 'Villa Lugano',\n",
       "       'Villa Real', 'Villa Riachuelo', 'Villa Soldati'], dtype=object)"
      ]
     },
     "execution_count": 13,
     "metadata": {},
     "output_type": "execute_result"
    }
   ],
   "source": [
    "df.neighbourhood.unique()"
   ]
  },
  {
   "cell_type": "code",
   "execution_count": 14,
   "metadata": {},
   "outputs": [
    {
     "data": {
      "text/plain": [
       "Palermo              7284\n",
       "Recoleta             3946\n",
       "San Nicolas          1405\n",
       "Retiro               1227\n",
       "Balvanera            1139\n",
       "Belgrano             1117\n",
       "Almagro              1026\n",
       "Monserrat             999\n",
       "Villa Crespo          807\n",
       "San Telmo             702\n",
       "Colegiales            480\n",
       "Caballito             477\n",
       "Nuñez                 452\n",
       "Chacarita             427\n",
       "Constitucion          343\n",
       "Villa Urquiza         265\n",
       "Puerto Madero         262\n",
       "Barracas              182\n",
       "San Cristobal         151\n",
       "Saavedra              150\n",
       "Boca                  129\n",
       "Flores                120\n",
       "Boedo                 114\n",
       "Coghlan               100\n",
       "Villa Ortuzar          95\n",
       "Parque Patricios       75\n",
       "Villa Devoto           67\n",
       "Villa Del Parque       60\n",
       "Parque Chas            53\n",
       "Parque Chacabuco       50\n",
       "Villa Pueyrredon       44\n",
       "Agronomia              40\n",
       "Floresta               40\n",
       "Villa Gral. Mitre      34\n",
       "Paternal               32\n",
       "Villa Santa Rita       27\n",
       "Villa Luro             23\n",
       "Velez Sarsfield        22\n",
       "Monte Castro           22\n",
       "Liniers                20\n",
       "Mataderos              17\n",
       "Parque Avellaneda      16\n",
       "Versalles              13\n",
       "Nueva Pompeya          12\n",
       "Villa Real              9\n",
       "Villa Lugano            3\n",
       "Villa Soldati           3\n",
       "Villa Riachuelo         2\n",
       "Name: neighbourhood, dtype: int64"
      ]
     },
     "execution_count": 14,
     "metadata": {},
     "output_type": "execute_result"
    }
   ],
   "source": [
    "# Vemos la cantidad de veces que aparece cierto barrio.\n",
    "df.neighbourhood.value_counts()"
   ]
  },
  {
   "cell_type": "markdown",
   "metadata": {},
   "source": [
    "##### En un gráfico, mostraremos los 10 barrios con más anuncios:"
   ]
  },
  {
   "cell_type": "code",
   "execution_count": 15,
   "metadata": {},
   "outputs": [
    {
     "data": {
      "text/plain": [
       "<matplotlib.axes._subplots.AxesSubplot at 0x12ce02910>"
      ]
     },
     "execution_count": 15,
     "metadata": {},
     "output_type": "execute_result"
    },
    {
     "data": {
      "image/png": "[encoded data removed]",
      "text/plain": [
       "<Figure size 1152x432 with 1 Axes>"
      ]
     },
     "metadata": {
      "needs_background": "light"
     },
     "output_type": "display_data"
    }
   ],
   "source": [
    "plt.figure(figsize=(16, 6))\n",
    "sns.barplot(x=df.neighbourhood.value_counts().head(10).index, y=df.neighbourhood.value_counts().head(10))"
   ]
  },
  {
   "cell_type": "markdown",
   "metadata": {},
   "source": [
    "Claramente los tres barrios con más anuncios son Palermo, Recoleta y San Nicolas."
   ]
  },
  {
   "cell_type": "markdown",
   "metadata": {},
   "source": [
    "#### Tipo de habitación\n",
    "\n",
    "Veamos que tipo de habitación es la que más anuncios tiene."
   ]
  },
  {
   "cell_type": "code",
   "execution_count": 16,
   "metadata": {},
   "outputs": [
    {
     "data": {
      "text/plain": [
       "Entire home/apt    18493\n",
       "Private room        4741\n",
       "Shared room          556\n",
       "Hotel room           293\n",
       "Name: room_type, dtype: int64"
      ]
     },
     "execution_count": 16,
     "metadata": {},
     "output_type": "execute_result"
    }
   ],
   "source": [
    "# En cantidades\n",
    "df.room_type.value_counts()"
   ]
  },
  {
   "cell_type": "raw",
   "metadata": {},
   "source": [
    "# En porcentaje\n",
    "df.room_type.value_counts(normalize=True).round(2)*100"
   ]
  },
  {
   "cell_type": "markdown",
   "metadata": {},
   "source": [
    "##### En un gráfico:"
   ]
  },
  {
   "cell_type": "code",
   "execution_count": 18,
   "metadata": {},
   "outputs": [
    {
     "data": {
      "text/plain": [
       "<matplotlib.axes._subplots.AxesSubplot at 0x12b41ba30>"
      ]
     },
     "execution_count": 18,
     "metadata": {},
     "output_type": "execute_result"
    },
    {
     "data": {
      "image/png": "[encoded data removed]",
      "text/plain": [
       "<Figure size 864x360 with 1 Axes>"
      ]
     },
     "metadata": {
      "needs_background": "light"
     },
     "output_type": "display_data"
    }
   ],
   "source": [
    "sns.barplot(x=df.room_type.value_counts().index, y=df.room_type.value_counts())"
   ]
  },
  {
   "cell_type": "markdown",
   "metadata": {},
   "source": [
    "El tipo de propiedad que más anuncios tiene son las casas/departamentos, con un 57% de diferencia ante las habitaciones privadas."
   ]
  },
  {
   "cell_type": "markdown",
   "metadata": {},
   "source": [
    "\n",
    "\n"
   ]
  },
  {
   "cell_type": "markdown",
   "metadata": {},
   "source": [
    "#### Precios\n",
    "\n",
    "Veamos cuales son los datos estadisticos de los precios y cual es su distribución, ¿podemos sacar alguna conclusión?"
   ]
  },
  {
   "cell_type": "code",
   "execution_count": 19,
   "metadata": {},
   "outputs": [
    {
     "data": {
      "text/plain": [
       "count     24083.000000\n",
       "mean       3195.517502\n",
       "std       11693.018875\n",
       "min         120.000000\n",
       "25%        1260.000000\n",
       "50%        1981.000000\n",
       "75%        3001.000000\n",
       "max      600155.000000\n",
       "Name: price, dtype: float64"
      ]
     },
     "execution_count": 19,
     "metadata": {},
     "output_type": "execute_result"
    }
   ],
   "source": [
    "df.price.describe()"
   ]
  },
  {
   "cell_type": "code",
   "execution_count": 20,
   "metadata": {},
   "outputs": [
    {
     "data": {
      "text/plain": [
       "<matplotlib.axes._subplots.AxesSubplot at 0x12b5cbf40>"
      ]
     },
     "execution_count": 20,
     "metadata": {},
     "output_type": "execute_result"
    },
    {
     "data": {
      "image/png": "[encoded data removed]",
      "text/plain": [
       "<Figure size 864x360 with 1 Axes>"
      ]
     },
     "metadata": {
      "needs_background": "light"
     },
     "output_type": "display_data"
    }
   ],
   "source": [
    "sns.distplot(df.price)"
   ]
  },
  {
   "cell_type": "markdown",
   "metadata": {},
   "source": [
    "Se observa que existe una dispersión muy importante, debido a que el valor maximo es 600.155 y el mínimo 120.\n",
    "\n",
    "Por esta razón procederemos a analizar los valores Outliers."
   ]
  },
  {
   "cell_type": "markdown",
   "metadata": {},
   "source": [
    "#### Outliers"
   ]
  },
  {
   "cell_type": "code",
   "execution_count": 21,
   "metadata": {},
   "outputs": [
    {
     "data": {
      "text/plain": [
       "<matplotlib.axes._subplots.AxesSubplot at 0x12b61ca00>"
      ]
     },
     "execution_count": 21,
     "metadata": {},
     "output_type": "execute_result"
    },
    {
     "data": {
      "image/png": "[encoded data removed]",
      "text/plain": [
       "<Figure size 864x360 with 1 Axes>"
      ]
     },
     "metadata": {
      "needs_background": "light"
     },
     "output_type": "display_data"
    }
   ],
   "source": [
    "sns.boxplot(df.price)"
   ]
  },
  {
   "cell_type": "markdown",
   "metadata": {},
   "source": [
    "Con la formula de Rango Intercuartíl procedemos a eleminar los valores outliers:"
   ]
  },
  {
   "cell_type": "code",
   "execution_count": 22,
   "metadata": {},
   "outputs": [
    {
     "data": {
      "text/html": [
       "<div>\n",
       "<style scoped>\n",
       "    .dataframe tbody tr th:only-of-type {\n",
       "        vertical-align: middle;\n",
       "    }\n",
       "\n",
       "    .dataframe tbody tr th {\n",
       "        vertical-align: top;\n",
       "    }\n",
       "\n",
       "    .dataframe thead th {\n",
       "        text-align: right;\n",
       "    }\n",
       "</style>\n",
       "<table border=\"1\" class=\"dataframe\">\n",
       "  <thead>\n",
       "    <tr style=\"text-align: right;\">\n",
       "      <th></th>\n",
       "      <th>name</th>\n",
       "      <th>host_id</th>\n",
       "      <th>host_name</th>\n",
       "      <th>neighbourhood</th>\n",
       "      <th>latitude</th>\n",
       "      <th>longitude</th>\n",
       "      <th>room_type</th>\n",
       "      <th>price</th>\n",
       "      <th>minimum_nights</th>\n",
       "      <th>number_of_reviews</th>\n",
       "      <th>last_review</th>\n",
       "      <th>reviews_per_month</th>\n",
       "      <th>calculated_host_listings_count</th>\n",
       "      <th>availability_365</th>\n",
       "    </tr>\n",
       "  </thead>\n",
       "  <tbody>\n",
       "    <tr>\n",
       "      <th>0</th>\n",
       "      <td>¡¡Great Loft in Palermo Hollywood!!</td>\n",
       "      <td>18822</td>\n",
       "      <td>Toni</td>\n",
       "      <td>Palermo</td>\n",
       "      <td>-34.582410</td>\n",
       "      <td>-58.433820</td>\n",
       "      <td>Entire home/apt</td>\n",
       "      <td>2041</td>\n",
       "      <td>20</td>\n",
       "      <td>14</td>\n",
       "      <td>2018-04-30</td>\n",
       "      <td>0.15</td>\n",
       "      <td>1</td>\n",
       "      <td>363</td>\n",
       "    </tr>\n",
       "    <tr>\n",
       "      <th>1</th>\n",
       "      <td>Amazing Luxurious Apt-Palermo Soho</td>\n",
       "      <td>42762</td>\n",
       "      <td>Candela</td>\n",
       "      <td>Palermo</td>\n",
       "      <td>-34.582250</td>\n",
       "      <td>-58.424600</td>\n",
       "      <td>Entire home/apt</td>\n",
       "      <td>3601</td>\n",
       "      <td>2</td>\n",
       "      <td>26</td>\n",
       "      <td>2019-11-28</td>\n",
       "      <td>0.28</td>\n",
       "      <td>1</td>\n",
       "      <td>323</td>\n",
       "    </tr>\n",
       "    <tr>\n",
       "      <th>2</th>\n",
       "      <td>Room in Recoleta - awesome location</td>\n",
       "      <td>48799</td>\n",
       "      <td>Matt</td>\n",
       "      <td>Recoleta</td>\n",
       "      <td>-34.597610</td>\n",
       "      <td>-58.394680</td>\n",
       "      <td>Private room</td>\n",
       "      <td>1441</td>\n",
       "      <td>1</td>\n",
       "      <td>20</td>\n",
       "      <td>2017-12-11</td>\n",
       "      <td>0.17</td>\n",
       "      <td>1</td>\n",
       "      <td>365</td>\n",
       "    </tr>\n",
       "    <tr>\n",
       "      <th>3</th>\n",
       "      <td>Standard Room at Palermo Viejo B&amp;B</td>\n",
       "      <td>50994</td>\n",
       "      <td>Ariel</td>\n",
       "      <td>Palermo</td>\n",
       "      <td>-34.593820</td>\n",
       "      <td>-58.429940</td>\n",
       "      <td>Private room</td>\n",
       "      <td>2701</td>\n",
       "      <td>1</td>\n",
       "      <td>1</td>\n",
       "      <td>2018-12-18</td>\n",
       "      <td>0.07</td>\n",
       "      <td>7</td>\n",
       "      <td>365</td>\n",
       "    </tr>\n",
       "    <tr>\n",
       "      <th>4</th>\n",
       "      <td>Standard Room in Palermo Viejo B&amp;B</td>\n",
       "      <td>50994</td>\n",
       "      <td>Ariel</td>\n",
       "      <td>Palermo</td>\n",
       "      <td>-34.593980</td>\n",
       "      <td>-58.428530</td>\n",
       "      <td>Private room</td>\n",
       "      <td>2701</td>\n",
       "      <td>1</td>\n",
       "      <td>0</td>\n",
       "      <td>NaN</td>\n",
       "      <td>NaN</td>\n",
       "      <td>7</td>\n",
       "      <td>365</td>\n",
       "    </tr>\n",
       "    <tr>\n",
       "      <th>...</th>\n",
       "      <td>...</td>\n",
       "      <td>...</td>\n",
       "      <td>...</td>\n",
       "      <td>...</td>\n",
       "      <td>...</td>\n",
       "      <td>...</td>\n",
       "      <td>...</td>\n",
       "      <td>...</td>\n",
       "      <td>...</td>\n",
       "      <td>...</td>\n",
       "      <td>...</td>\n",
       "      <td>...</td>\n",
       "      <td>...</td>\n",
       "      <td>...</td>\n",
       "    </tr>\n",
       "    <tr>\n",
       "      <th>24078</th>\n",
       "      <td>Nazca 1400</td>\n",
       "      <td>330175600</td>\n",
       "      <td>Matafuegos</td>\n",
       "      <td>Villa Santa Rita</td>\n",
       "      <td>-34.616580</td>\n",
       "      <td>-58.476230</td>\n",
       "      <td>Entire home/apt</td>\n",
       "      <td>1441</td>\n",
       "      <td>2</td>\n",
       "      <td>0</td>\n",
       "      <td>NaN</td>\n",
       "      <td>NaN</td>\n",
       "      <td>1</td>\n",
       "      <td>360</td>\n",
       "    </tr>\n",
       "    <tr>\n",
       "      <th>24079</th>\n",
       "      <td>Modern apartment with pool in the heart of Pal...</td>\n",
       "      <td>128733042</td>\n",
       "      <td>Luisina</td>\n",
       "      <td>Recoleta</td>\n",
       "      <td>-34.595556</td>\n",
       "      <td>-58.412277</td>\n",
       "      <td>Entire home/apt</td>\n",
       "      <td>3001</td>\n",
       "      <td>4</td>\n",
       "      <td>0</td>\n",
       "      <td>NaN</td>\n",
       "      <td>NaN</td>\n",
       "      <td>2</td>\n",
       "      <td>48</td>\n",
       "    </tr>\n",
       "    <tr>\n",
       "      <th>24080</th>\n",
       "      <td>Greenzone - Habitación privada (hasta 3 personas)</td>\n",
       "      <td>22286043</td>\n",
       "      <td>Martina</td>\n",
       "      <td>Caballito</td>\n",
       "      <td>-34.607010</td>\n",
       "      <td>-58.460170</td>\n",
       "      <td>Private room</td>\n",
       "      <td>600</td>\n",
       "      <td>4</td>\n",
       "      <td>0</td>\n",
       "      <td>NaN</td>\n",
       "      <td>NaN</td>\n",
       "      <td>1</td>\n",
       "      <td>148</td>\n",
       "    </tr>\n",
       "    <tr>\n",
       "      <th>24081</th>\n",
       "      <td>Full 2 guests flat at famous P SOHO PLAZA SERR...</td>\n",
       "      <td>1482817</td>\n",
       "      <td>Lorena</td>\n",
       "      <td>Palermo</td>\n",
       "      <td>-34.587789</td>\n",
       "      <td>-58.430529</td>\n",
       "      <td>Entire home/apt</td>\n",
       "      <td>1921</td>\n",
       "      <td>3</td>\n",
       "      <td>0</td>\n",
       "      <td>NaN</td>\n",
       "      <td>NaN</td>\n",
       "      <td>45</td>\n",
       "      <td>83</td>\n",
       "    </tr>\n",
       "    <tr>\n",
       "      <th>24082</th>\n",
       "      <td>IMPERDIBLE!</td>\n",
       "      <td>11275785</td>\n",
       "      <td>Mariela</td>\n",
       "      <td>Nuñez</td>\n",
       "      <td>-34.543584</td>\n",
       "      <td>-58.462718</td>\n",
       "      <td>Entire home/apt</td>\n",
       "      <td>3601</td>\n",
       "      <td>5</td>\n",
       "      <td>0</td>\n",
       "      <td>NaN</td>\n",
       "      <td>NaN</td>\n",
       "      <td>2</td>\n",
       "      <td>357</td>\n",
       "    </tr>\n",
       "  </tbody>\n",
       "</table>\n",
       "<p>22043 rows × 14 columns</p>\n",
       "</div>"
      ],
      "text/plain": [
       "                                                    name    host_id  \\\n",
       "0                    ¡¡Great Loft in Palermo Hollywood!!      18822   \n",
       "1                     Amazing Luxurious Apt-Palermo Soho      42762   \n",
       "2                    Room in Recoleta - awesome location      48799   \n",
       "3                     Standard Room at Palermo Viejo B&B      50994   \n",
       "4                     Standard Room in Palermo Viejo B&B      50994   \n",
       "...                                                  ...        ...   \n",
       "24078                                         Nazca 1400  330175600   \n",
       "24079  Modern apartment with pool in the heart of Pal...  128733042   \n",
       "24080  Greenzone - Habitación privada (hasta 3 personas)   22286043   \n",
       "24081  Full 2 guests flat at famous P SOHO PLAZA SERR...    1482817   \n",
       "24082                                        IMPERDIBLE!   11275785   \n",
       "\n",
       "        host_name     neighbourhood   latitude  longitude        room_type  \\\n",
       "0            Toni           Palermo -34.582410 -58.433820  Entire home/apt   \n",
       "1         Candela           Palermo -34.582250 -58.424600  Entire home/apt   \n",
       "2            Matt          Recoleta -34.597610 -58.394680     Private room   \n",
       "3           Ariel           Palermo -34.593820 -58.429940     Private room   \n",
       "4           Ariel           Palermo -34.593980 -58.428530     Private room   \n",
       "...           ...               ...        ...        ...              ...   \n",
       "24078  Matafuegos  Villa Santa Rita -34.616580 -58.476230  Entire home/apt   \n",
       "24079     Luisina          Recoleta -34.595556 -58.412277  Entire home/apt   \n",
       "24080     Martina         Caballito -34.607010 -58.460170     Private room   \n",
       "24081      Lorena           Palermo -34.587789 -58.430529  Entire home/apt   \n",
       "24082     Mariela             Nuñez -34.543584 -58.462718  Entire home/apt   \n",
       "\n",
       "       price  minimum_nights  number_of_reviews last_review  \\\n",
       "0       2041              20                 14  2018-04-30   \n",
       "1       3601               2                 26  2019-11-28   \n",
       "2       1441               1                 20  2017-12-11   \n",
       "3       2701               1                  1  2018-12-18   \n",
       "4       2701               1                  0         NaN   \n",
       "...      ...             ...                ...         ...   \n",
       "24078   1441               2                  0         NaN   \n",
       "24079   3001               4                  0         NaN   \n",
       "24080    600               4                  0         NaN   \n",
       "24081   1921               3                  0         NaN   \n",
       "24082   3601               5                  0         NaN   \n",
       "\n",
       "       reviews_per_month  calculated_host_listings_count  availability_365  \n",
       "0                   0.15                               1               363  \n",
       "1                   0.28                               1               323  \n",
       "2                   0.17                               1               365  \n",
       "3                   0.07                               7               365  \n",
       "4                    NaN                               7               365  \n",
       "...                  ...                             ...               ...  \n",
       "24078                NaN                               1               360  \n",
       "24079                NaN                               2                48  \n",
       "24080                NaN                               1               148  \n",
       "24081                NaN                              45                83  \n",
       "24082                NaN                               2               357  \n",
       "\n",
       "[22043 rows x 14 columns]"
      ]
     },
     "execution_count": 22,
     "metadata": {},
     "output_type": "execute_result"
    }
   ],
   "source": [
    "q1 = df.price.quantile(0.25)\n",
    "q3 = df.price.quantile(0.75)\n",
    "\n",
    "iqr = q3 - q1\n",
    "\n",
    "min = q1 - (iqr*1.5)\n",
    "max = q3 + (iqr*1.5)\n",
    "\n",
    "#df_filtered = df[(df.price_usd_per_m2 >= q1) & (df.price_usd_per_m2 <= q3)]\n",
    "df_filtered = df[(df.price > min) & (df.price < max)]\n",
    "df_filtered"
   ]
  },
  {
   "cell_type": "markdown",
   "metadata": {},
   "source": [
    "La cantidad de valores eliminados fue de:"
   ]
  },
  {
   "cell_type": "code",
   "execution_count": 23,
   "metadata": {},
   "outputs": [
    {
     "data": {
      "text/plain": [
       "2040"
      ]
     },
     "execution_count": 23,
     "metadata": {},
     "output_type": "execute_result"
    }
   ],
   "source": [
    "len(df) - len(df_filtered)"
   ]
  },
  {
   "cell_type": "markdown",
   "metadata": {},
   "source": [
    "Veamos ahora, que cambio en los valores estadísticos:"
   ]
  },
  {
   "cell_type": "code",
   "execution_count": 24,
   "metadata": {},
   "outputs": [
    {
     "data": {
      "text/plain": [
       "count    22043.000000\n",
       "mean      2072.462913\n",
       "std       1148.663177\n",
       "min        120.000000\n",
       "25%       1200.000000\n",
       "50%       1801.000000\n",
       "75%       2701.000000\n",
       "max       5582.000000\n",
       "Name: price, dtype: float64"
      ]
     },
     "execution_count": 24,
     "metadata": {},
     "output_type": "execute_result"
    }
   ],
   "source": [
    "df_filtered.price.describe()"
   ]
  },
  {
   "cell_type": "markdown",
   "metadata": {},
   "source": [
    "Claramente podemos observar que ya no existe tanta dispersión como en el data set original, esto se debe por haber aplicado la formula de Rango intercuartil\n",
    "y haber eliminado los valores outliers. Anteriormente, existian valores aislados muy altos, que ahora fueron eliminados.\n",
    "\n",
    "Ahora, el promedio y la mediana estan más cercanas y la desviación estandar es mucho más baja que antes (11.693 y ahora 1.148).\n",
    "\n",
    "Veamos esto en un boxplot y en un gráfico de distribución:"
   ]
  },
  {
   "cell_type": "code",
   "execution_count": 25,
   "metadata": {},
   "outputs": [
    {
     "data": {
      "text/plain": [
       "<matplotlib.axes._subplots.AxesSubplot at 0x12cdd6eb0>"
      ]
     },
     "execution_count": 25,
     "metadata": {},
     "output_type": "execute_result"
    },
    {
     "data": {
      "image/png": "[encoded data removed]",
      "text/plain": [
       "<Figure size 864x360 with 1 Axes>"
      ]
     },
     "metadata": {
      "needs_background": "light"
     },
     "output_type": "display_data"
    }
   ],
   "source": [
    "sns.boxplot(df_filtered.price)"
   ]
  },
  {
   "cell_type": "code",
   "execution_count": 26,
   "metadata": {},
   "outputs": [
    {
     "data": {
      "text/plain": [
       "<matplotlib.axes._subplots.AxesSubplot at 0x12bb44b80>"
      ]
     },
     "execution_count": 26,
     "metadata": {},
     "output_type": "execute_result"
    },
    {
     "data": {
      "image/png": "[encoded data removed]",
      "text/plain": [
       "<Figure size 864x360 with 1 Axes>"
      ]
     },
     "metadata": {
      "needs_background": "light"
     },
     "output_type": "display_data"
    }
   ],
   "source": [
    "sns.distplot(df_filtered.price)"
   ]
  },
  {
   "cell_type": "markdown",
   "metadata": {},
   "source": [
    "Ahora si, este gráfico se entiende mucho más que el anterior, claramente podemos decir que no sigue los lineamientos de una distribución normal.\n",
    "\n",
    "Pareciera que es una distribución sesgada a la derecha (Sesgo positivo), donde la mediana < promedio."
   ]
  },
  {
   "cell_type": "markdown",
   "metadata": {},
   "source": [
    "Luego de haber filtrado, nos quedaremos con que:\n",
    "* Precio máximo de los anuncios es de $5582.\n",
    "\n",
    "* Precio mínimo de los anuncios es de $120.\n",
    "\n",
    "* La mediana es de $1801"
   ]
  },
  {
   "cell_type": "markdown",
   "metadata": {},
   "source": [
    "#### Mínimo de noches\n",
    "\n",
    "Pasaremos a analizar la cantidad miníma de noches que se exige en los anuncios.\n",
    "\n",
    "Comenzaremos con los datos estadisticos y luego iremos haciendo otros calculos."
   ]
  },
  {
   "cell_type": "code",
   "execution_count": 27,
   "metadata": {},
   "outputs": [
    {
     "data": {
      "text/plain": [
       "count    24083.000000\n",
       "mean         5.728605\n",
       "std         24.635683\n",
       "min          1.000000\n",
       "25%          1.000000\n",
       "50%          3.000000\n",
       "75%          4.000000\n",
       "max       1125.000000\n",
       "Name: minimum_nights, dtype: float64"
      ]
     },
     "execution_count": 27,
     "metadata": {},
     "output_type": "execute_result"
    }
   ],
   "source": [
    "df.minimum_nights.describe()"
   ]
  },
  {
   "cell_type": "markdown",
   "metadata": {},
   "source": [
    "Se puede observar una gran dispersión por el valor alto en la desviación estandar.\n",
    "\n",
    "Además, se puede ver que el mínimo de noches exigidas es 1 y que como máximo nos podemos quedar hasta 1125 en algunos tipos de habitaciones.\n",
    "En promedio (aunque afectado por la dipersión) se puede decir que los anuncion rondan las 6 noches, y las 3 noches si tenemos en cuenta la mediana, para tener\n",
    "mayor claridad en este tema, más adelante buscaremos los outliers."
   ]
  },
  {
   "cell_type": "markdown",
   "metadata": {},
   "source": [
    "Comenzaremos graficando un boxplot para ver los outliers."
   ]
  },
  {
   "cell_type": "code",
   "execution_count": 28,
   "metadata": {},
   "outputs": [
    {
     "data": {
      "text/plain": [
       "<matplotlib.axes._subplots.AxesSubplot at 0x12be54460>"
      ]
     },
     "execution_count": 28,
     "metadata": {},
     "output_type": "execute_result"
    },
    {
     "data": {
      "image/png": "[encoded data removed]",
      "text/plain": [
       "<Figure size 864x360 with 1 Axes>"
      ]
     },
     "metadata": {
      "needs_background": "light"
     },
     "output_type": "display_data"
    }
   ],
   "source": [
    "sns.boxplot(df.minimum_nights)"
   ]
  },
  {
   "cell_type": "markdown",
   "metadata": {},
   "source": [
    "Volvemos a utilizar la formula del rango intercuartil para quitar los outliers y tener mayor claridad."
   ]
  },
  {
   "cell_type": "code",
   "execution_count": 42,
   "metadata": {},
   "outputs": [
    {
     "data": {
      "text/html": [
       "<div>\n",
       "<style scoped>\n",
       "    .dataframe tbody tr th:only-of-type {\n",
       "        vertical-align: middle;\n",
       "    }\n",
       "\n",
       "    .dataframe tbody tr th {\n",
       "        vertical-align: top;\n",
       "    }\n",
       "\n",
       "    .dataframe thead th {\n",
       "        text-align: right;\n",
       "    }\n",
       "</style>\n",
       "<table border=\"1\" class=\"dataframe\">\n",
       "  <thead>\n",
       "    <tr style=\"text-align: right;\">\n",
       "      <th></th>\n",
       "      <th>name</th>\n",
       "      <th>host_id</th>\n",
       "      <th>host_name</th>\n",
       "      <th>neighbourhood</th>\n",
       "      <th>latitude</th>\n",
       "      <th>longitude</th>\n",
       "      <th>room_type</th>\n",
       "      <th>price</th>\n",
       "      <th>minimum_nights</th>\n",
       "      <th>number_of_reviews</th>\n",
       "      <th>last_review</th>\n",
       "      <th>reviews_per_month</th>\n",
       "      <th>calculated_host_listings_count</th>\n",
       "      <th>availability_365</th>\n",
       "    </tr>\n",
       "  </thead>\n",
       "  <tbody>\n",
       "    <tr>\n",
       "      <th>1</th>\n",
       "      <td>Amazing Luxurious Apt-Palermo Soho</td>\n",
       "      <td>42762</td>\n",
       "      <td>Candela</td>\n",
       "      <td>Palermo</td>\n",
       "      <td>-34.582250</td>\n",
       "      <td>-58.424600</td>\n",
       "      <td>Entire home/apt</td>\n",
       "      <td>3601</td>\n",
       "      <td>2</td>\n",
       "      <td>26</td>\n",
       "      <td>2019-11-28</td>\n",
       "      <td>0.28</td>\n",
       "      <td>1</td>\n",
       "      <td>323</td>\n",
       "    </tr>\n",
       "    <tr>\n",
       "      <th>2</th>\n",
       "      <td>Room in Recoleta - awesome location</td>\n",
       "      <td>48799</td>\n",
       "      <td>Matt</td>\n",
       "      <td>Recoleta</td>\n",
       "      <td>-34.597610</td>\n",
       "      <td>-58.394680</td>\n",
       "      <td>Private room</td>\n",
       "      <td>1441</td>\n",
       "      <td>1</td>\n",
       "      <td>20</td>\n",
       "      <td>2017-12-11</td>\n",
       "      <td>0.17</td>\n",
       "      <td>1</td>\n",
       "      <td>365</td>\n",
       "    </tr>\n",
       "    <tr>\n",
       "      <th>3</th>\n",
       "      <td>Standard Room at Palermo Viejo B&amp;B</td>\n",
       "      <td>50994</td>\n",
       "      <td>Ariel</td>\n",
       "      <td>Palermo</td>\n",
       "      <td>-34.593820</td>\n",
       "      <td>-58.429940</td>\n",
       "      <td>Private room</td>\n",
       "      <td>2701</td>\n",
       "      <td>1</td>\n",
       "      <td>1</td>\n",
       "      <td>2018-12-18</td>\n",
       "      <td>0.07</td>\n",
       "      <td>7</td>\n",
       "      <td>365</td>\n",
       "    </tr>\n",
       "    <tr>\n",
       "      <th>4</th>\n",
       "      <td>Standard Room in Palermo Viejo B&amp;B</td>\n",
       "      <td>50994</td>\n",
       "      <td>Ariel</td>\n",
       "      <td>Palermo</td>\n",
       "      <td>-34.593980</td>\n",
       "      <td>-58.428530</td>\n",
       "      <td>Private room</td>\n",
       "      <td>2701</td>\n",
       "      <td>1</td>\n",
       "      <td>0</td>\n",
       "      <td>NaN</td>\n",
       "      <td>NaN</td>\n",
       "      <td>7</td>\n",
       "      <td>365</td>\n",
       "    </tr>\n",
       "    <tr>\n",
       "      <th>5</th>\n",
       "      <td>Standard Room at Palermo Viejo B&amp;B</td>\n",
       "      <td>50994</td>\n",
       "      <td>Ariel</td>\n",
       "      <td>Palermo</td>\n",
       "      <td>-34.593810</td>\n",
       "      <td>-58.430070</td>\n",
       "      <td>Private room</td>\n",
       "      <td>2701</td>\n",
       "      <td>1</td>\n",
       "      <td>66</td>\n",
       "      <td>2019-11-27</td>\n",
       "      <td>2.08</td>\n",
       "      <td>7</td>\n",
       "      <td>365</td>\n",
       "    </tr>\n",
       "    <tr>\n",
       "      <th>...</th>\n",
       "      <td>...</td>\n",
       "      <td>...</td>\n",
       "      <td>...</td>\n",
       "      <td>...</td>\n",
       "      <td>...</td>\n",
       "      <td>...</td>\n",
       "      <td>...</td>\n",
       "      <td>...</td>\n",
       "      <td>...</td>\n",
       "      <td>...</td>\n",
       "      <td>...</td>\n",
       "      <td>...</td>\n",
       "      <td>...</td>\n",
       "      <td>...</td>\n",
       "    </tr>\n",
       "    <tr>\n",
       "      <th>24078</th>\n",
       "      <td>Nazca 1400</td>\n",
       "      <td>330175600</td>\n",
       "      <td>Matafuegos</td>\n",
       "      <td>Villa Santa Rita</td>\n",
       "      <td>-34.616580</td>\n",
       "      <td>-58.476230</td>\n",
       "      <td>Entire home/apt</td>\n",
       "      <td>1441</td>\n",
       "      <td>2</td>\n",
       "      <td>0</td>\n",
       "      <td>NaN</td>\n",
       "      <td>NaN</td>\n",
       "      <td>1</td>\n",
       "      <td>360</td>\n",
       "    </tr>\n",
       "    <tr>\n",
       "      <th>24079</th>\n",
       "      <td>Modern apartment with pool in the heart of Pal...</td>\n",
       "      <td>128733042</td>\n",
       "      <td>Luisina</td>\n",
       "      <td>Recoleta</td>\n",
       "      <td>-34.595556</td>\n",
       "      <td>-58.412277</td>\n",
       "      <td>Entire home/apt</td>\n",
       "      <td>3001</td>\n",
       "      <td>4</td>\n",
       "      <td>0</td>\n",
       "      <td>NaN</td>\n",
       "      <td>NaN</td>\n",
       "      <td>2</td>\n",
       "      <td>48</td>\n",
       "    </tr>\n",
       "    <tr>\n",
       "      <th>24080</th>\n",
       "      <td>Greenzone - Habitación privada (hasta 3 personas)</td>\n",
       "      <td>22286043</td>\n",
       "      <td>Martina</td>\n",
       "      <td>Caballito</td>\n",
       "      <td>-34.607010</td>\n",
       "      <td>-58.460170</td>\n",
       "      <td>Private room</td>\n",
       "      <td>600</td>\n",
       "      <td>4</td>\n",
       "      <td>0</td>\n",
       "      <td>NaN</td>\n",
       "      <td>NaN</td>\n",
       "      <td>1</td>\n",
       "      <td>148</td>\n",
       "    </tr>\n",
       "    <tr>\n",
       "      <th>24081</th>\n",
       "      <td>Full 2 guests flat at famous P SOHO PLAZA SERR...</td>\n",
       "      <td>1482817</td>\n",
       "      <td>Lorena</td>\n",
       "      <td>Palermo</td>\n",
       "      <td>-34.587789</td>\n",
       "      <td>-58.430529</td>\n",
       "      <td>Entire home/apt</td>\n",
       "      <td>1921</td>\n",
       "      <td>3</td>\n",
       "      <td>0</td>\n",
       "      <td>NaN</td>\n",
       "      <td>NaN</td>\n",
       "      <td>45</td>\n",
       "      <td>83</td>\n",
       "    </tr>\n",
       "    <tr>\n",
       "      <th>24082</th>\n",
       "      <td>IMPERDIBLE!</td>\n",
       "      <td>11275785</td>\n",
       "      <td>Mariela</td>\n",
       "      <td>Nuñez</td>\n",
       "      <td>-34.543584</td>\n",
       "      <td>-58.462718</td>\n",
       "      <td>Entire home/apt</td>\n",
       "      <td>3601</td>\n",
       "      <td>5</td>\n",
       "      <td>0</td>\n",
       "      <td>NaN</td>\n",
       "      <td>NaN</td>\n",
       "      <td>2</td>\n",
       "      <td>357</td>\n",
       "    </tr>\n",
       "  </tbody>\n",
       "</table>\n",
       "<p>20318 rows × 14 columns</p>\n",
       "</div>"
      ],
      "text/plain": [
       "                                                    name    host_id  \\\n",
       "1                     Amazing Luxurious Apt-Palermo Soho      42762   \n",
       "2                    Room in Recoleta - awesome location      48799   \n",
       "3                     Standard Room at Palermo Viejo B&B      50994   \n",
       "4                     Standard Room in Palermo Viejo B&B      50994   \n",
       "5                     Standard Room at Palermo Viejo B&B      50994   \n",
       "...                                                  ...        ...   \n",
       "24078                                         Nazca 1400  330175600   \n",
       "24079  Modern apartment with pool in the heart of Pal...  128733042   \n",
       "24080  Greenzone - Habitación privada (hasta 3 personas)   22286043   \n",
       "24081  Full 2 guests flat at famous P SOHO PLAZA SERR...    1482817   \n",
       "24082                                        IMPERDIBLE!   11275785   \n",
       "\n",
       "        host_name     neighbourhood   latitude  longitude        room_type  \\\n",
       "1         Candela           Palermo -34.582250 -58.424600  Entire home/apt   \n",
       "2            Matt          Recoleta -34.597610 -58.394680     Private room   \n",
       "3           Ariel           Palermo -34.593820 -58.429940     Private room   \n",
       "4           Ariel           Palermo -34.593980 -58.428530     Private room   \n",
       "5           Ariel           Palermo -34.593810 -58.430070     Private room   \n",
       "...           ...               ...        ...        ...              ...   \n",
       "24078  Matafuegos  Villa Santa Rita -34.616580 -58.476230  Entire home/apt   \n",
       "24079     Luisina          Recoleta -34.595556 -58.412277  Entire home/apt   \n",
       "24080     Martina         Caballito -34.607010 -58.460170     Private room   \n",
       "24081      Lorena           Palermo -34.587789 -58.430529  Entire home/apt   \n",
       "24082     Mariela             Nuñez -34.543584 -58.462718  Entire home/apt   \n",
       "\n",
       "       price  minimum_nights  number_of_reviews last_review  \\\n",
       "1       3601               2                 26  2019-11-28   \n",
       "2       1441               1                 20  2017-12-11   \n",
       "3       2701               1                  1  2018-12-18   \n",
       "4       2701               1                  0         NaN   \n",
       "5       2701               1                 66  2019-11-27   \n",
       "...      ...             ...                ...         ...   \n",
       "24078   1441               2                  0         NaN   \n",
       "24079   3001               4                  0         NaN   \n",
       "24080    600               4                  0         NaN   \n",
       "24081   1921               3                  0         NaN   \n",
       "24082   3601               5                  0         NaN   \n",
       "\n",
       "       reviews_per_month  calculated_host_listings_count  availability_365  \n",
       "1                   0.28                               1               323  \n",
       "2                   0.17                               1               365  \n",
       "3                   0.07                               7               365  \n",
       "4                    NaN                               7               365  \n",
       "5                   2.08                               7               365  \n",
       "...                  ...                             ...               ...  \n",
       "24078                NaN                               1               360  \n",
       "24079                NaN                               2                48  \n",
       "24080                NaN                               1               148  \n",
       "24081                NaN                              45                83  \n",
       "24082                NaN                               2               357  \n",
       "\n",
       "[20318 rows x 14 columns]"
      ]
     },
     "execution_count": 42,
     "metadata": {},
     "output_type": "execute_result"
    }
   ],
   "source": [
    "q1 = df.minimum_nights.quantile(0.25) \n",
    "q3 = df.minimum_nights.quantile(0.75)\n",
    "\n",
    "iqr = q3 - q1\n",
    "\n",
    "min = q1 - (1.5*iqr)\n",
    "max = q3 + (1.5*iqr)\n",
    "\n",
    "df_filtered_nights = df_filtered.copy()\n",
    "\n",
    "df_filtered_nights = df_filtered_nights[ (df_filtered_nights.minimum_nights >= min) & (df_filtered_nights.minimum_nights <= max) ]\n",
    "df_filtered_nights"
   ]
  },
  {
   "cell_type": "markdown",
   "metadata": {},
   "source": [
    "En total se eliminaron:"
   ]
  },
  {
   "cell_type": "code",
   "execution_count": 43,
   "metadata": {},
   "outputs": [
    {
     "data": {
      "text/plain": [
       "3765"
      ]
     },
     "execution_count": 43,
     "metadata": {},
     "output_type": "execute_result"
    }
   ],
   "source": [
    "len(df) - len(df_filtered_nights)"
   ]
  },
  {
   "cell_type": "markdown",
   "metadata": {},
   "source": [
    "Veamos los nuevos valores estadisticos, el boxplot y su distribución:"
   ]
  },
  {
   "cell_type": "code",
   "execution_count": 31,
   "metadata": {},
   "outputs": [
    {
     "data": {
      "text/plain": [
       "count    22198.000000\n",
       "mean         2.740292\n",
       "std          1.733465\n",
       "min          1.000000\n",
       "25%          1.000000\n",
       "50%          2.000000\n",
       "75%          3.000000\n",
       "max          8.000000\n",
       "Name: minimum_nights, dtype: float64"
      ]
     },
     "execution_count": 31,
     "metadata": {},
     "output_type": "execute_result"
    }
   ],
   "source": [
    "df_filtered_nights.minimum_nights.describe()"
   ]
  },
  {
   "cell_type": "markdown",
   "metadata": {},
   "source": [
    "Claramente la desviación estandar disminuyo en 10, y tiene más sentido, al igual que el promedio y la media ahora son muy similares.\n",
    "\n",
    "Ahora tenemos un máximo de 8 noches y el mínimo sigue siendo de 1 noche.\n",
    "\n",
    "Veamos el boxplot y los outliers luego del filtro:"
   ]
  },
  {
   "cell_type": "code",
   "execution_count": 32,
   "metadata": {},
   "outputs": [
    {
     "data": {
      "text/plain": [
       "<matplotlib.axes._subplots.AxesSubplot at 0x12bf8a850>"
      ]
     },
     "execution_count": 32,
     "metadata": {},
     "output_type": "execute_result"
    },
    {
     "data": {
      "image/png": "[encoded data removed]",
      "text/plain": [
       "<Figure size 864x360 with 1 Axes>"
      ]
     },
     "metadata": {
      "needs_background": "light"
     },
     "output_type": "display_data"
    }
   ],
   "source": [
    "sns.boxplot(df_filtered_nights.minimum_nights)"
   ]
  },
  {
   "cell_type": "code",
   "execution_count": 33,
   "metadata": {},
   "outputs": [
    {
     "data": {
      "text/plain": [
       "<matplotlib.axes._subplots.AxesSubplot at 0x12bc7db20>"
      ]
     },
     "execution_count": 33,
     "metadata": {},
     "output_type": "execute_result"
    },
    {
     "data": {
      "image/png": "[encoded data removed]",
      "text/plain": [
       "<Figure size 864x360 with 1 Axes>"
      ]
     },
     "metadata": {
      "needs_background": "light"
     },
     "output_type": "display_data"
    }
   ],
   "source": [
    "sns.distplot(df_filtered_nights.minimum_nights)"
   ]
  },
  {
   "cell_type": "markdown",
   "metadata": {},
   "source": [
    "### Latitud y longitud en un mapa"
   ]
  },
  {
   "cell_type": "code",
   "execution_count": 34,
   "metadata": {},
   "outputs": [
    {
     "data": {
      "text/plain": [
       "latitude    longitude \n",
       "-34.598178  -58.388142    2\n",
       "-34.600140  -58.440960    2\n",
       "-34.585680  -58.424200    2\n",
       "-34.589650  -58.390990    2\n",
       "-34.604430  -58.395800    2\n",
       "-34.595020  -58.386010    2\n",
       "-34.589370  -58.411450    2\n",
       "-34.581870  -58.406260    2\n",
       "-34.619940  -58.372590    2\n",
       "-34.579606  -58.411490    3\n",
       "dtype: int64"
      ]
     },
     "execution_count": 34,
     "metadata": {},
     "output_type": "execute_result"
    }
   ],
   "source": [
    "df.groupby([\"latitude\",\"longitude\"]).size().sort_values().tail(10)"
   ]
  },
  {
   "cell_type": "markdown",
   "metadata": {},
   "source": [
    "### 4. Graficando y cruzando variables para entender mejor.\n"
   ]
  },
  {
   "cell_type": "markdown",
   "metadata": {},
   "source": [
    "#### Tipos de habitaciones por barrios\n",
    "\n",
    "Veamos como es la relación entre los tipos de habitaciones y los barrios, para esto comenzaremos por un scatter plot."
   ]
  },
  {
   "cell_type": "code",
   "execution_count": 35,
   "metadata": {},
   "outputs": [
    {
     "data": {
      "text/html": [
       "<div>\n",
       "<style scoped>\n",
       "    .dataframe tbody tr th:only-of-type {\n",
       "        vertical-align: middle;\n",
       "    }\n",
       "\n",
       "    .dataframe tbody tr th {\n",
       "        vertical-align: top;\n",
       "    }\n",
       "\n",
       "    .dataframe thead th {\n",
       "        text-align: right;\n",
       "    }\n",
       "</style>\n",
       "<table border=\"1\" class=\"dataframe\">\n",
       "  <thead>\n",
       "    <tr style=\"text-align: right;\">\n",
       "      <th>room_type</th>\n",
       "      <th>Entire home/apt</th>\n",
       "      <th>Hotel room</th>\n",
       "      <th>Private room</th>\n",
       "      <th>Shared room</th>\n",
       "      <th>All</th>\n",
       "    </tr>\n",
       "    <tr>\n",
       "      <th>neighbourhood</th>\n",
       "      <th></th>\n",
       "      <th></th>\n",
       "      <th></th>\n",
       "      <th></th>\n",
       "      <th></th>\n",
       "    </tr>\n",
       "  </thead>\n",
       "  <tbody>\n",
       "    <tr>\n",
       "      <th>Agronomia</th>\n",
       "      <td>18</td>\n",
       "      <td>0</td>\n",
       "      <td>21</td>\n",
       "      <td>1</td>\n",
       "      <td>40</td>\n",
       "    </tr>\n",
       "    <tr>\n",
       "      <th>Almagro</th>\n",
       "      <td>677</td>\n",
       "      <td>2</td>\n",
       "      <td>310</td>\n",
       "      <td>37</td>\n",
       "      <td>1026</td>\n",
       "    </tr>\n",
       "    <tr>\n",
       "      <th>Balvanera</th>\n",
       "      <td>690</td>\n",
       "      <td>17</td>\n",
       "      <td>395</td>\n",
       "      <td>37</td>\n",
       "      <td>1139</td>\n",
       "    </tr>\n",
       "    <tr>\n",
       "      <th>Barracas</th>\n",
       "      <td>108</td>\n",
       "      <td>0</td>\n",
       "      <td>69</td>\n",
       "      <td>5</td>\n",
       "      <td>182</td>\n",
       "    </tr>\n",
       "    <tr>\n",
       "      <th>Belgrano</th>\n",
       "      <td>855</td>\n",
       "      <td>3</td>\n",
       "      <td>239</td>\n",
       "      <td>20</td>\n",
       "      <td>1117</td>\n",
       "    </tr>\n",
       "    <tr>\n",
       "      <th>Boca</th>\n",
       "      <td>73</td>\n",
       "      <td>0</td>\n",
       "      <td>53</td>\n",
       "      <td>3</td>\n",
       "      <td>129</td>\n",
       "    </tr>\n",
       "    <tr>\n",
       "      <th>Boedo</th>\n",
       "      <td>58</td>\n",
       "      <td>0</td>\n",
       "      <td>51</td>\n",
       "      <td>5</td>\n",
       "      <td>114</td>\n",
       "    </tr>\n",
       "    <tr>\n",
       "      <th>Caballito</th>\n",
       "      <td>305</td>\n",
       "      <td>0</td>\n",
       "      <td>155</td>\n",
       "      <td>17</td>\n",
       "      <td>477</td>\n",
       "    </tr>\n",
       "    <tr>\n",
       "      <th>Chacarita</th>\n",
       "      <td>291</td>\n",
       "      <td>1</td>\n",
       "      <td>126</td>\n",
       "      <td>9</td>\n",
       "      <td>427</td>\n",
       "    </tr>\n",
       "    <tr>\n",
       "      <th>Coghlan</th>\n",
       "      <td>64</td>\n",
       "      <td>0</td>\n",
       "      <td>33</td>\n",
       "      <td>3</td>\n",
       "      <td>100</td>\n",
       "    </tr>\n",
       "    <tr>\n",
       "      <th>Colegiales</th>\n",
       "      <td>354</td>\n",
       "      <td>4</td>\n",
       "      <td>108</td>\n",
       "      <td>14</td>\n",
       "      <td>480</td>\n",
       "    </tr>\n",
       "    <tr>\n",
       "      <th>Constitucion</th>\n",
       "      <td>220</td>\n",
       "      <td>3</td>\n",
       "      <td>103</td>\n",
       "      <td>17</td>\n",
       "      <td>343</td>\n",
       "    </tr>\n",
       "    <tr>\n",
       "      <th>Flores</th>\n",
       "      <td>57</td>\n",
       "      <td>0</td>\n",
       "      <td>54</td>\n",
       "      <td>9</td>\n",
       "      <td>120</td>\n",
       "    </tr>\n",
       "    <tr>\n",
       "      <th>Floresta</th>\n",
       "      <td>9</td>\n",
       "      <td>1</td>\n",
       "      <td>28</td>\n",
       "      <td>2</td>\n",
       "      <td>40</td>\n",
       "    </tr>\n",
       "    <tr>\n",
       "      <th>Liniers</th>\n",
       "      <td>12</td>\n",
       "      <td>0</td>\n",
       "      <td>5</td>\n",
       "      <td>3</td>\n",
       "      <td>20</td>\n",
       "    </tr>\n",
       "    <tr>\n",
       "      <th>Mataderos</th>\n",
       "      <td>6</td>\n",
       "      <td>0</td>\n",
       "      <td>10</td>\n",
       "      <td>1</td>\n",
       "      <td>17</td>\n",
       "    </tr>\n",
       "    <tr>\n",
       "      <th>Monserrat</th>\n",
       "      <td>689</td>\n",
       "      <td>49</td>\n",
       "      <td>232</td>\n",
       "      <td>29</td>\n",
       "      <td>999</td>\n",
       "    </tr>\n",
       "    <tr>\n",
       "      <th>Monte Castro</th>\n",
       "      <td>11</td>\n",
       "      <td>0</td>\n",
       "      <td>10</td>\n",
       "      <td>1</td>\n",
       "      <td>22</td>\n",
       "    </tr>\n",
       "    <tr>\n",
       "      <th>Nueva Pompeya</th>\n",
       "      <td>5</td>\n",
       "      <td>0</td>\n",
       "      <td>7</td>\n",
       "      <td>0</td>\n",
       "      <td>12</td>\n",
       "    </tr>\n",
       "    <tr>\n",
       "      <th>Nuñez</th>\n",
       "      <td>359</td>\n",
       "      <td>2</td>\n",
       "      <td>84</td>\n",
       "      <td>7</td>\n",
       "      <td>452</td>\n",
       "    </tr>\n",
       "    <tr>\n",
       "      <th>Palermo</th>\n",
       "      <td>6130</td>\n",
       "      <td>51</td>\n",
       "      <td>994</td>\n",
       "      <td>109</td>\n",
       "      <td>7284</td>\n",
       "    </tr>\n",
       "    <tr>\n",
       "      <th>Parque Avellaneda</th>\n",
       "      <td>7</td>\n",
       "      <td>0</td>\n",
       "      <td>9</td>\n",
       "      <td>0</td>\n",
       "      <td>16</td>\n",
       "    </tr>\n",
       "    <tr>\n",
       "      <th>Parque Chacabuco</th>\n",
       "      <td>31</td>\n",
       "      <td>0</td>\n",
       "      <td>16</td>\n",
       "      <td>3</td>\n",
       "      <td>50</td>\n",
       "    </tr>\n",
       "    <tr>\n",
       "      <th>Parque Chas</th>\n",
       "      <td>29</td>\n",
       "      <td>0</td>\n",
       "      <td>20</td>\n",
       "      <td>4</td>\n",
       "      <td>53</td>\n",
       "    </tr>\n",
       "    <tr>\n",
       "      <th>Parque Patricios</th>\n",
       "      <td>30</td>\n",
       "      <td>0</td>\n",
       "      <td>34</td>\n",
       "      <td>11</td>\n",
       "      <td>75</td>\n",
       "    </tr>\n",
       "    <tr>\n",
       "      <th>Paternal</th>\n",
       "      <td>13</td>\n",
       "      <td>0</td>\n",
       "      <td>16</td>\n",
       "      <td>3</td>\n",
       "      <td>32</td>\n",
       "    </tr>\n",
       "    <tr>\n",
       "      <th>Puerto Madero</th>\n",
       "      <td>245</td>\n",
       "      <td>3</td>\n",
       "      <td>14</td>\n",
       "      <td>0</td>\n",
       "      <td>262</td>\n",
       "    </tr>\n",
       "    <tr>\n",
       "      <th>Recoleta</th>\n",
       "      <td>3293</td>\n",
       "      <td>69</td>\n",
       "      <td>509</td>\n",
       "      <td>75</td>\n",
       "      <td>3946</td>\n",
       "    </tr>\n",
       "    <tr>\n",
       "      <th>Retiro</th>\n",
       "      <td>1039</td>\n",
       "      <td>52</td>\n",
       "      <td>122</td>\n",
       "      <td>14</td>\n",
       "      <td>1227</td>\n",
       "    </tr>\n",
       "    <tr>\n",
       "      <th>Saavedra</th>\n",
       "      <td>106</td>\n",
       "      <td>0</td>\n",
       "      <td>35</td>\n",
       "      <td>9</td>\n",
       "      <td>150</td>\n",
       "    </tr>\n",
       "    <tr>\n",
       "      <th>San Cristobal</th>\n",
       "      <td>66</td>\n",
       "      <td>1</td>\n",
       "      <td>67</td>\n",
       "      <td>17</td>\n",
       "      <td>151</td>\n",
       "    </tr>\n",
       "    <tr>\n",
       "      <th>San Nicolas</th>\n",
       "      <td>1156</td>\n",
       "      <td>17</td>\n",
       "      <td>200</td>\n",
       "      <td>32</td>\n",
       "      <td>1405</td>\n",
       "    </tr>\n",
       "    <tr>\n",
       "      <th>San Telmo</th>\n",
       "      <td>492</td>\n",
       "      <td>17</td>\n",
       "      <td>180</td>\n",
       "      <td>13</td>\n",
       "      <td>702</td>\n",
       "    </tr>\n",
       "    <tr>\n",
       "      <th>Velez Sarsfield</th>\n",
       "      <td>12</td>\n",
       "      <td>0</td>\n",
       "      <td>9</td>\n",
       "      <td>1</td>\n",
       "      <td>22</td>\n",
       "    </tr>\n",
       "    <tr>\n",
       "      <th>Versalles</th>\n",
       "      <td>3</td>\n",
       "      <td>0</td>\n",
       "      <td>8</td>\n",
       "      <td>2</td>\n",
       "      <td>13</td>\n",
       "    </tr>\n",
       "    <tr>\n",
       "      <th>Villa Crespo</th>\n",
       "      <td>566</td>\n",
       "      <td>0</td>\n",
       "      <td>221</td>\n",
       "      <td>20</td>\n",
       "      <td>807</td>\n",
       "    </tr>\n",
       "    <tr>\n",
       "      <th>Villa Del Parque</th>\n",
       "      <td>31</td>\n",
       "      <td>0</td>\n",
       "      <td>28</td>\n",
       "      <td>1</td>\n",
       "      <td>60</td>\n",
       "    </tr>\n",
       "    <tr>\n",
       "      <th>Villa Devoto</th>\n",
       "      <td>45</td>\n",
       "      <td>1</td>\n",
       "      <td>21</td>\n",
       "      <td>0</td>\n",
       "      <td>67</td>\n",
       "    </tr>\n",
       "    <tr>\n",
       "      <th>Villa Gral. Mitre</th>\n",
       "      <td>17</td>\n",
       "      <td>0</td>\n",
       "      <td>14</td>\n",
       "      <td>3</td>\n",
       "      <td>34</td>\n",
       "    </tr>\n",
       "    <tr>\n",
       "      <th>Villa Lugano</th>\n",
       "      <td>1</td>\n",
       "      <td>0</td>\n",
       "      <td>2</td>\n",
       "      <td>0</td>\n",
       "      <td>3</td>\n",
       "    </tr>\n",
       "    <tr>\n",
       "      <th>Villa Luro</th>\n",
       "      <td>13</td>\n",
       "      <td>0</td>\n",
       "      <td>10</td>\n",
       "      <td>0</td>\n",
       "      <td>23</td>\n",
       "    </tr>\n",
       "    <tr>\n",
       "      <th>Villa Ortuzar</th>\n",
       "      <td>62</td>\n",
       "      <td>0</td>\n",
       "      <td>30</td>\n",
       "      <td>3</td>\n",
       "      <td>95</td>\n",
       "    </tr>\n",
       "    <tr>\n",
       "      <th>Villa Pueyrredon</th>\n",
       "      <td>33</td>\n",
       "      <td>0</td>\n",
       "      <td>8</td>\n",
       "      <td>3</td>\n",
       "      <td>44</td>\n",
       "    </tr>\n",
       "    <tr>\n",
       "      <th>Villa Real</th>\n",
       "      <td>4</td>\n",
       "      <td>0</td>\n",
       "      <td>4</td>\n",
       "      <td>1</td>\n",
       "      <td>9</td>\n",
       "    </tr>\n",
       "    <tr>\n",
       "      <th>Villa Riachuelo</th>\n",
       "      <td>1</td>\n",
       "      <td>0</td>\n",
       "      <td>1</td>\n",
       "      <td>0</td>\n",
       "      <td>2</td>\n",
       "    </tr>\n",
       "    <tr>\n",
       "      <th>Villa Santa Rita</th>\n",
       "      <td>15</td>\n",
       "      <td>0</td>\n",
       "      <td>11</td>\n",
       "      <td>1</td>\n",
       "      <td>27</td>\n",
       "    </tr>\n",
       "    <tr>\n",
       "      <th>Villa Soldati</th>\n",
       "      <td>1</td>\n",
       "      <td>0</td>\n",
       "      <td>2</td>\n",
       "      <td>0</td>\n",
       "      <td>3</td>\n",
       "    </tr>\n",
       "    <tr>\n",
       "      <th>Villa Urquiza</th>\n",
       "      <td>191</td>\n",
       "      <td>0</td>\n",
       "      <td>63</td>\n",
       "      <td>11</td>\n",
       "      <td>265</td>\n",
       "    </tr>\n",
       "    <tr>\n",
       "      <th>All</th>\n",
       "      <td>18493</td>\n",
       "      <td>293</td>\n",
       "      <td>4741</td>\n",
       "      <td>556</td>\n",
       "      <td>24083</td>\n",
       "    </tr>\n",
       "  </tbody>\n",
       "</table>\n",
       "</div>"
      ],
      "text/plain": [
       "room_type          Entire home/apt  Hotel room  Private room  Shared room  \\\n",
       "neighbourhood                                                               \n",
       "Agronomia                       18           0            21            1   \n",
       "Almagro                        677           2           310           37   \n",
       "Balvanera                      690          17           395           37   \n",
       "Barracas                       108           0            69            5   \n",
       "Belgrano                       855           3           239           20   \n",
       "Boca                            73           0            53            3   \n",
       "Boedo                           58           0            51            5   \n",
       "Caballito                      305           0           155           17   \n",
       "Chacarita                      291           1           126            9   \n",
       "Coghlan                         64           0            33            3   \n",
       "Colegiales                     354           4           108           14   \n",
       "Constitucion                   220           3           103           17   \n",
       "Flores                          57           0            54            9   \n",
       "Floresta                         9           1            28            2   \n",
       "Liniers                         12           0             5            3   \n",
       "Mataderos                        6           0            10            1   \n",
       "Monserrat                      689          49           232           29   \n",
       "Monte Castro                    11           0            10            1   \n",
       "Nueva Pompeya                    5           0             7            0   \n",
       "Nuñez                          359           2            84            7   \n",
       "Palermo                       6130          51           994          109   \n",
       "Parque Avellaneda                7           0             9            0   \n",
       "Parque Chacabuco                31           0            16            3   \n",
       "Parque Chas                     29           0            20            4   \n",
       "Parque Patricios                30           0            34           11   \n",
       "Paternal                        13           0            16            3   \n",
       "Puerto Madero                  245           3            14            0   \n",
       "Recoleta                      3293          69           509           75   \n",
       "Retiro                        1039          52           122           14   \n",
       "Saavedra                       106           0            35            9   \n",
       "San Cristobal                   66           1            67           17   \n",
       "San Nicolas                   1156          17           200           32   \n",
       "San Telmo                      492          17           180           13   \n",
       "Velez Sarsfield                 12           0             9            1   \n",
       "Versalles                        3           0             8            2   \n",
       "Villa Crespo                   566           0           221           20   \n",
       "Villa Del Parque                31           0            28            1   \n",
       "Villa Devoto                    45           1            21            0   \n",
       "Villa Gral. Mitre               17           0            14            3   \n",
       "Villa Lugano                     1           0             2            0   \n",
       "Villa Luro                      13           0            10            0   \n",
       "Villa Ortuzar                   62           0            30            3   \n",
       "Villa Pueyrredon                33           0             8            3   \n",
       "Villa Real                       4           0             4            1   \n",
       "Villa Riachuelo                  1           0             1            0   \n",
       "Villa Santa Rita                15           0            11            1   \n",
       "Villa Soldati                    1           0             2            0   \n",
       "Villa Urquiza                  191           0            63           11   \n",
       "All                          18493         293          4741          556   \n",
       "\n",
       "room_type            All  \n",
       "neighbourhood             \n",
       "Agronomia             40  \n",
       "Almagro             1026  \n",
       "Balvanera           1139  \n",
       "Barracas             182  \n",
       "Belgrano            1117  \n",
       "Boca                 129  \n",
       "Boedo                114  \n",
       "Caballito            477  \n",
       "Chacarita            427  \n",
       "Coghlan              100  \n",
       "Colegiales           480  \n",
       "Constitucion         343  \n",
       "Flores               120  \n",
       "Floresta              40  \n",
       "Liniers               20  \n",
       "Mataderos             17  \n",
       "Monserrat            999  \n",
       "Monte Castro          22  \n",
       "Nueva Pompeya         12  \n",
       "Nuñez                452  \n",
       "Palermo             7284  \n",
       "Parque Avellaneda     16  \n",
       "Parque Chacabuco      50  \n",
       "Parque Chas           53  \n",
       "Parque Patricios      75  \n",
       "Paternal              32  \n",
       "Puerto Madero        262  \n",
       "Recoleta            3946  \n",
       "Retiro              1227  \n",
       "Saavedra             150  \n",
       "San Cristobal        151  \n",
       "San Nicolas         1405  \n",
       "San Telmo            702  \n",
       "Velez Sarsfield       22  \n",
       "Versalles             13  \n",
       "Villa Crespo         807  \n",
       "Villa Del Parque      60  \n",
       "Villa Devoto          67  \n",
       "Villa Gral. Mitre     34  \n",
       "Villa Lugano           3  \n",
       "Villa Luro            23  \n",
       "Villa Ortuzar         95  \n",
       "Villa Pueyrredon      44  \n",
       "Villa Real             9  \n",
       "Villa Riachuelo        2  \n",
       "Villa Santa Rita      27  \n",
       "Villa Soldati          3  \n",
       "Villa Urquiza        265  \n",
       "All                24083  "
      ]
     },
     "execution_count": 35,
     "metadata": {},
     "output_type": "execute_result"
    }
   ],
   "source": [
    "pd.crosstab(index=df.neighbourhood, columns=df.room_type, margins=True)"
   ]
  },
  {
   "cell_type": "markdown",
   "metadata": {},
   "source": [
    "#### Tipos de habitaciones por barrios"
   ]
  },
  {
   "cell_type": "code",
   "execution_count": 56,
   "metadata": {},
   "outputs": [
    {
     "ename": "ValueError",
     "evalue": "Grouper and axis must be same length",
     "output_type": "error",
     "traceback": [
      "\u001b[0;31m---------------------------------------------------------------------------\u001b[0m",
      "\u001b[0;31mValueError\u001b[0m                                Traceback (most recent call last)",
      "\u001b[0;32m<ipython-input-56-98419b9912cd>\u001b[0m in \u001b[0;36m<module>\u001b[0;34m\u001b[0m\n\u001b[0;32m----> 1\u001b[0;31m \u001b[0msns\u001b[0m\u001b[0;34m.\u001b[0m\u001b[0mbarplot\u001b[0m\u001b[0;34m(\u001b[0m\u001b[0mx\u001b[0m \u001b[0;34m=\u001b[0m \u001b[0mdf\u001b[0m\u001b[0;34m.\u001b[0m\u001b[0mneighbourhood\u001b[0m\u001b[0;34m.\u001b[0m\u001b[0mvalue_counts\u001b[0m\u001b[0;34m(\u001b[0m\u001b[0;34m)\u001b[0m\u001b[0;34m.\u001b[0m\u001b[0mhead\u001b[0m\u001b[0;34m(\u001b[0m\u001b[0;36m5\u001b[0m\u001b[0;34m)\u001b[0m\u001b[0;34m.\u001b[0m\u001b[0mindex\u001b[0m\u001b[0;34m,\u001b[0m \u001b[0my\u001b[0m\u001b[0;34m=\u001b[0m\u001b[0;34m\"price\"\u001b[0m\u001b[0;34m,\u001b[0m \u001b[0mhue\u001b[0m \u001b[0;34m=\u001b[0m \u001b[0;34m\"room_type\"\u001b[0m\u001b[0;34m,\u001b[0m\u001b[0mdata\u001b[0m \u001b[0;34m=\u001b[0m \u001b[0mdf\u001b[0m\u001b[0;34m,\u001b[0m \u001b[0mpalette\u001b[0m\u001b[0;34m=\u001b[0m\u001b[0;34m\"Set1\"\u001b[0m\u001b[0;34m)\u001b[0m\u001b[0;34m\u001b[0m\u001b[0;34m\u001b[0m\u001b[0m\n\u001b[0m\u001b[1;32m      2\u001b[0m \u001b[0mplt\u001b[0m\u001b[0;34m.\u001b[0m\u001b[0mtitle\u001b[0m\u001b[0;34m(\u001b[0m\u001b[0;34m\"Precio agrupado por barrios y tipo de habitacion\"\u001b[0m\u001b[0;34m)\u001b[0m\u001b[0;34m\u001b[0m\u001b[0;34m\u001b[0m\u001b[0m\n\u001b[1;32m      3\u001b[0m \u001b[0mplt\u001b[0m\u001b[0;34m.\u001b[0m\u001b[0mshow\u001b[0m\u001b[0;34m(\u001b[0m\u001b[0;34m)\u001b[0m\u001b[0;34m\u001b[0m\u001b[0;34m\u001b[0m\u001b[0m\n",
      "\u001b[0;32m~/opt/anaconda3/envs/python/lib/python3.8/site-packages/seaborn/categorical.py\u001b[0m in \u001b[0;36mbarplot\u001b[0;34m(x, y, hue, data, order, hue_order, estimator, ci, n_boot, units, seed, orient, color, palette, saturation, errcolor, errwidth, capsize, dodge, ax, **kwargs)\u001b[0m\n\u001b[1;32m   3145\u001b[0m             ax=None, **kwargs):\n\u001b[1;32m   3146\u001b[0m \u001b[0;34m\u001b[0m\u001b[0m\n\u001b[0;32m-> 3147\u001b[0;31m     plotter = _BarPlotter(x, y, hue, data, order, hue_order,\n\u001b[0m\u001b[1;32m   3148\u001b[0m                           \u001b[0mestimator\u001b[0m\u001b[0;34m,\u001b[0m \u001b[0mci\u001b[0m\u001b[0;34m,\u001b[0m \u001b[0mn_boot\u001b[0m\u001b[0;34m,\u001b[0m \u001b[0munits\u001b[0m\u001b[0;34m,\u001b[0m \u001b[0mseed\u001b[0m\u001b[0;34m,\u001b[0m\u001b[0;34m\u001b[0m\u001b[0;34m\u001b[0m\u001b[0m\n\u001b[1;32m   3149\u001b[0m                           \u001b[0morient\u001b[0m\u001b[0;34m,\u001b[0m \u001b[0mcolor\u001b[0m\u001b[0;34m,\u001b[0m \u001b[0mpalette\u001b[0m\u001b[0;34m,\u001b[0m \u001b[0msaturation\u001b[0m\u001b[0;34m,\u001b[0m\u001b[0;34m\u001b[0m\u001b[0;34m\u001b[0m\u001b[0m\n",
      "\u001b[0;32m~/opt/anaconda3/envs/python/lib/python3.8/site-packages/seaborn/categorical.py\u001b[0m in \u001b[0;36m__init__\u001b[0;34m(self, x, y, hue, data, order, hue_order, estimator, ci, n_boot, units, seed, orient, color, palette, saturation, errcolor, errwidth, capsize, dodge)\u001b[0m\n\u001b[1;32m   1612\u001b[0m                  errwidth, capsize, dodge):\n\u001b[1;32m   1613\u001b[0m         \u001b[0;34m\"\"\"Initialize the plotter.\"\"\"\u001b[0m\u001b[0;34m\u001b[0m\u001b[0;34m\u001b[0m\u001b[0m\n\u001b[0;32m-> 1614\u001b[0;31m         self.establish_variables(x, y, hue, data, orient,\n\u001b[0m\u001b[1;32m   1615\u001b[0m                                  order, hue_order, units)\n\u001b[1;32m   1616\u001b[0m         \u001b[0mself\u001b[0m\u001b[0;34m.\u001b[0m\u001b[0mestablish_colors\u001b[0m\u001b[0;34m(\u001b[0m\u001b[0mcolor\u001b[0m\u001b[0;34m,\u001b[0m \u001b[0mpalette\u001b[0m\u001b[0;34m,\u001b[0m \u001b[0msaturation\u001b[0m\u001b[0;34m)\u001b[0m\u001b[0;34m\u001b[0m\u001b[0;34m\u001b[0m\u001b[0m\n",
      "\u001b[0;32m~/opt/anaconda3/envs/python/lib/python3.8/site-packages/seaborn/categorical.py\u001b[0m in \u001b[0;36mestablish_variables\u001b[0;34m(self, x, y, hue, data, orient, order, hue_order, units)\u001b[0m\n\u001b[1;32m    201\u001b[0m \u001b[0;34m\u001b[0m\u001b[0m\n\u001b[1;32m    202\u001b[0m                 \u001b[0;31m# Group the numeric data\u001b[0m\u001b[0;34m\u001b[0m\u001b[0;34m\u001b[0m\u001b[0;34m\u001b[0m\u001b[0m\n\u001b[0;32m--> 203\u001b[0;31m                 plot_data, value_label = self._group_longform(vals, groups,\n\u001b[0m\u001b[1;32m    204\u001b[0m                                                               group_names)\n\u001b[1;32m    205\u001b[0m \u001b[0;34m\u001b[0m\u001b[0m\n",
      "\u001b[0;32m~/opt/anaconda3/envs/python/lib/python3.8/site-packages/seaborn/categorical.py\u001b[0m in \u001b[0;36m_group_longform\u001b[0;34m(self, vals, grouper, order)\u001b[0m\n\u001b[1;32m    248\u001b[0m \u001b[0;34m\u001b[0m\u001b[0m\n\u001b[1;32m    249\u001b[0m         \u001b[0;31m# Group the val data\u001b[0m\u001b[0;34m\u001b[0m\u001b[0;34m\u001b[0m\u001b[0;34m\u001b[0m\u001b[0m\n\u001b[0;32m--> 250\u001b[0;31m         \u001b[0mgrouped_vals\u001b[0m \u001b[0;34m=\u001b[0m \u001b[0mvals\u001b[0m\u001b[0;34m.\u001b[0m\u001b[0mgroupby\u001b[0m\u001b[0;34m(\u001b[0m\u001b[0mgrouper\u001b[0m\u001b[0;34m)\u001b[0m\u001b[0;34m\u001b[0m\u001b[0;34m\u001b[0m\u001b[0m\n\u001b[0m\u001b[1;32m    251\u001b[0m         \u001b[0mout_data\u001b[0m \u001b[0;34m=\u001b[0m \u001b[0;34m[\u001b[0m\u001b[0;34m]\u001b[0m\u001b[0;34m\u001b[0m\u001b[0;34m\u001b[0m\u001b[0m\n\u001b[1;32m    252\u001b[0m         \u001b[0;32mfor\u001b[0m \u001b[0mg\u001b[0m \u001b[0;32min\u001b[0m \u001b[0morder\u001b[0m\u001b[0;34m:\u001b[0m\u001b[0;34m\u001b[0m\u001b[0;34m\u001b[0m\u001b[0m\n",
      "\u001b[0;32m~/opt/anaconda3/envs/python/lib/python3.8/site-packages/pandas/core/series.py\u001b[0m in \u001b[0;36mgroupby\u001b[0;34m(self, by, axis, level, as_index, sort, group_keys, squeeze, observed)\u001b[0m\n\u001b[1;32m   1676\u001b[0m         \u001b[0maxis\u001b[0m \u001b[0;34m=\u001b[0m \u001b[0mself\u001b[0m\u001b[0;34m.\u001b[0m\u001b[0m_get_axis_number\u001b[0m\u001b[0;34m(\u001b[0m\u001b[0maxis\u001b[0m\u001b[0;34m)\u001b[0m\u001b[0;34m\u001b[0m\u001b[0;34m\u001b[0m\u001b[0m\n\u001b[1;32m   1677\u001b[0m \u001b[0;34m\u001b[0m\u001b[0m\n\u001b[0;32m-> 1678\u001b[0;31m         return groupby_generic.SeriesGroupBy(\n\u001b[0m\u001b[1;32m   1679\u001b[0m             \u001b[0mobj\u001b[0m\u001b[0;34m=\u001b[0m\u001b[0mself\u001b[0m\u001b[0;34m,\u001b[0m\u001b[0;34m\u001b[0m\u001b[0;34m\u001b[0m\u001b[0m\n\u001b[1;32m   1680\u001b[0m             \u001b[0mkeys\u001b[0m\u001b[0;34m=\u001b[0m\u001b[0mby\u001b[0m\u001b[0;34m,\u001b[0m\u001b[0;34m\u001b[0m\u001b[0;34m\u001b[0m\u001b[0m\n",
      "\u001b[0;32m~/opt/anaconda3/envs/python/lib/python3.8/site-packages/pandas/core/groupby/groupby.py\u001b[0m in \u001b[0;36m__init__\u001b[0;34m(self, obj, keys, axis, level, grouper, exclusions, selection, as_index, sort, group_keys, squeeze, observed, mutated)\u001b[0m\n\u001b[1;32m    400\u001b[0m             \u001b[0;32mfrom\u001b[0m \u001b[0mpandas\u001b[0m\u001b[0;34m.\u001b[0m\u001b[0mcore\u001b[0m\u001b[0;34m.\u001b[0m\u001b[0mgroupby\u001b[0m\u001b[0;34m.\u001b[0m\u001b[0mgrouper\u001b[0m \u001b[0;32mimport\u001b[0m \u001b[0mget_grouper\u001b[0m\u001b[0;34m\u001b[0m\u001b[0;34m\u001b[0m\u001b[0m\n\u001b[1;32m    401\u001b[0m \u001b[0;34m\u001b[0m\u001b[0m\n\u001b[0;32m--> 402\u001b[0;31m             grouper, exclusions, obj = get_grouper(\n\u001b[0m\u001b[1;32m    403\u001b[0m                 \u001b[0mobj\u001b[0m\u001b[0;34m,\u001b[0m\u001b[0;34m\u001b[0m\u001b[0;34m\u001b[0m\u001b[0m\n\u001b[1;32m    404\u001b[0m                 \u001b[0mkeys\u001b[0m\u001b[0;34m,\u001b[0m\u001b[0;34m\u001b[0m\u001b[0;34m\u001b[0m\u001b[0m\n",
      "\u001b[0;32m~/opt/anaconda3/envs/python/lib/python3.8/site-packages/pandas/core/groupby/grouper.py\u001b[0m in \u001b[0;36mget_grouper\u001b[0;34m(obj, key, axis, level, sort, observed, mutated, validate)\u001b[0m\n\u001b[1;32m    613\u001b[0m         \u001b[0;31m# allow us to passing the actual Grouping as the gpr\u001b[0m\u001b[0;34m\u001b[0m\u001b[0;34m\u001b[0m\u001b[0;34m\u001b[0m\u001b[0m\n\u001b[1;32m    614\u001b[0m         ping = (\n\u001b[0;32m--> 615\u001b[0;31m             Grouping(\n\u001b[0m\u001b[1;32m    616\u001b[0m                 \u001b[0mgroup_axis\u001b[0m\u001b[0;34m,\u001b[0m\u001b[0;34m\u001b[0m\u001b[0;34m\u001b[0m\u001b[0m\n\u001b[1;32m    617\u001b[0m                 \u001b[0mgpr\u001b[0m\u001b[0;34m,\u001b[0m\u001b[0;34m\u001b[0m\u001b[0;34m\u001b[0m\u001b[0m\n",
      "\u001b[0;32m~/opt/anaconda3/envs/python/lib/python3.8/site-packages/pandas/core/groupby/grouper.py\u001b[0m in \u001b[0;36m__init__\u001b[0;34m(self, index, grouper, obj, name, level, sort, observed, in_axis)\u001b[0m\n\u001b[1;32m    254\u001b[0m         \u001b[0mself\u001b[0m\u001b[0;34m.\u001b[0m\u001b[0mname\u001b[0m \u001b[0;34m=\u001b[0m \u001b[0mname\u001b[0m\u001b[0;34m\u001b[0m\u001b[0;34m\u001b[0m\u001b[0m\n\u001b[1;32m    255\u001b[0m         \u001b[0mself\u001b[0m\u001b[0;34m.\u001b[0m\u001b[0mlevel\u001b[0m \u001b[0;34m=\u001b[0m \u001b[0mlevel\u001b[0m\u001b[0;34m\u001b[0m\u001b[0;34m\u001b[0m\u001b[0m\n\u001b[0;32m--> 256\u001b[0;31m         \u001b[0mself\u001b[0m\u001b[0;34m.\u001b[0m\u001b[0mgrouper\u001b[0m \u001b[0;34m=\u001b[0m \u001b[0m_convert_grouper\u001b[0m\u001b[0;34m(\u001b[0m\u001b[0mindex\u001b[0m\u001b[0;34m,\u001b[0m \u001b[0mgrouper\u001b[0m\u001b[0;34m)\u001b[0m\u001b[0;34m\u001b[0m\u001b[0;34m\u001b[0m\u001b[0m\n\u001b[0m\u001b[1;32m    257\u001b[0m         \u001b[0mself\u001b[0m\u001b[0;34m.\u001b[0m\u001b[0mall_grouper\u001b[0m \u001b[0;34m=\u001b[0m \u001b[0;32mNone\u001b[0m\u001b[0;34m\u001b[0m\u001b[0;34m\u001b[0m\u001b[0m\n\u001b[1;32m    258\u001b[0m         \u001b[0mself\u001b[0m\u001b[0;34m.\u001b[0m\u001b[0mindex\u001b[0m \u001b[0;34m=\u001b[0m \u001b[0mindex\u001b[0m\u001b[0;34m\u001b[0m\u001b[0;34m\u001b[0m\u001b[0m\n",
      "\u001b[0;32m~/opt/anaconda3/envs/python/lib/python3.8/site-packages/pandas/core/groupby/grouper.py\u001b[0m in \u001b[0;36m_convert_grouper\u001b[0;34m(axis, grouper)\u001b[0m\n\u001b[1;32m    653\u001b[0m     \u001b[0;32melif\u001b[0m \u001b[0misinstance\u001b[0m\u001b[0;34m(\u001b[0m\u001b[0mgrouper\u001b[0m\u001b[0;34m,\u001b[0m \u001b[0;34m(\u001b[0m\u001b[0mlist\u001b[0m\u001b[0;34m,\u001b[0m \u001b[0mSeries\u001b[0m\u001b[0;34m,\u001b[0m \u001b[0mIndex\u001b[0m\u001b[0;34m,\u001b[0m \u001b[0mnp\u001b[0m\u001b[0;34m.\u001b[0m\u001b[0mndarray\u001b[0m\u001b[0;34m)\u001b[0m\u001b[0;34m)\u001b[0m\u001b[0;34m:\u001b[0m\u001b[0;34m\u001b[0m\u001b[0;34m\u001b[0m\u001b[0m\n\u001b[1;32m    654\u001b[0m         \u001b[0;32mif\u001b[0m \u001b[0mlen\u001b[0m\u001b[0;34m(\u001b[0m\u001b[0mgrouper\u001b[0m\u001b[0;34m)\u001b[0m \u001b[0;34m!=\u001b[0m \u001b[0mlen\u001b[0m\u001b[0;34m(\u001b[0m\u001b[0maxis\u001b[0m\u001b[0;34m)\u001b[0m\u001b[0;34m:\u001b[0m\u001b[0;34m\u001b[0m\u001b[0;34m\u001b[0m\u001b[0m\n\u001b[0;32m--> 655\u001b[0;31m             \u001b[0;32mraise\u001b[0m \u001b[0mValueError\u001b[0m\u001b[0;34m(\u001b[0m\u001b[0;34m\"Grouper and axis must be same length\"\u001b[0m\u001b[0;34m)\u001b[0m\u001b[0;34m\u001b[0m\u001b[0;34m\u001b[0m\u001b[0m\n\u001b[0m\u001b[1;32m    656\u001b[0m         \u001b[0;32mreturn\u001b[0m \u001b[0mgrouper\u001b[0m\u001b[0;34m\u001b[0m\u001b[0;34m\u001b[0m\u001b[0m\n\u001b[1;32m    657\u001b[0m     \u001b[0;32melse\u001b[0m\u001b[0;34m:\u001b[0m\u001b[0;34m\u001b[0m\u001b[0;34m\u001b[0m\u001b[0m\n",
      "\u001b[0;31mValueError\u001b[0m: Grouper and axis must be same length"
     ]
    }
   ],
   "source": [
    "sns.barplot(x = df.neighbourhood.value_counts().head(5).index, y=\"price\", hue = \"room_type\",data = df, palette=\"Set1\")\n",
    "plt.title(\"Precio agrupado por barrios y tipo de habitacion\")\n",
    "plt.show()"
   ]
  },
  {
   "cell_type": "markdown",
   "metadata": {},
   "source": [
    "### 5. Correlaciones."
   ]
  },
  {
   "cell_type": "code",
   "execution_count": 37,
   "metadata": {},
   "outputs": [
    {
     "data": {
      "text/plain": [
       "host_id    host_name         \n",
       "7786587    Maximiliano           108\n",
       "226049318  Maxim                  97\n",
       "3469227    Federico               88\n",
       "55553719   For Rent Argentina     88\n",
       "15900304   Gabriel                69\n",
       "2597734    Welcome2BA             60\n",
       "1875949    Diego                  56\n",
       "20907367   Marcela                55\n",
       "15466789   Juan                   52\n",
       "16133446   Luis & Florencia       51\n",
       "dtype: int64"
      ]
     },
     "execution_count": 37,
     "metadata": {},
     "output_type": "execute_result"
    }
   ],
   "source": [
    "# HOST - Puedo sacar una nueva feature \n",
    "df.groupby(['host_id', 'host_name']).size().sort_values(ascending=False).head(10)"
   ]
  },
  {
   "cell_type": "code",
   "execution_count": 45,
   "metadata": {},
   "outputs": [
    {
     "data": {
      "text/plain": [
       "<matplotlib.axes._subplots.AxesSubplot at 0x12f6b2370>"
      ]
     },
     "execution_count": 45,
     "metadata": {},
     "output_type": "execute_result"
    },
    {
     "data": {
      "image/png": "[encoded data removed]",
      "text/plain": [
       "<Figure size 864x360 with 1 Axes>"
      ]
     },
     "metadata": {
      "needs_background": "light"
     },
     "output_type": "display_data"
    }
   ],
   "source": []
  },
  {
   "cell_type": "code",
   "execution_count": null,
   "metadata": {},
   "outputs": [],
   "source": []
  }
 ],
 "metadata": {
  "kernelspec": {
   "display_name": "Python 3",
   "language": "python",
   "name": "python3"
  },
  "language_info": {
   "codemirror_mode": {
    "name": "ipython",
    "version": 3
   },
   "file_extension": ".py",
   "mimetype": "text/x-python",
   "name": "python",
   "nbconvert_exporter": "python",
   "pygments_lexer": "ipython3",
   "version": "3.8.1"
  }
 },
 "nbformat": 4,
 "nbformat_minor": 4
}
